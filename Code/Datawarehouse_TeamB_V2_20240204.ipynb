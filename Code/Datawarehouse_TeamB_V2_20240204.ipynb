{
  "nbformat": 4,
  "nbformat_minor": 0,
  "metadata": {
    "colab": {
      "provenance": [],
      "authorship_tag": "ABX9TyNFDsTFQfLJMsoEAGbjtMeC",
      "include_colab_link": true
    },
    "kernelspec": {
      "name": "python3",
      "display_name": "Python 3"
    },
    "language_info": {
      "name": "python"
    }
  },
  "cells": [
    {
      "cell_type": "markdown",
      "metadata": {
        "id": "view-in-github",
        "colab_type": "text"
      },
      "source": [
        "<a href=\"https://colab.research.google.com/github/Fuenfgeld/DMA2024TeamB/blob/main/Code/Datawarehouse_TeamB_V2_20240204.ipynb\" target=\"_parent\"><img src=\"https://colab.research.google.com/assets/colab-badge.svg\" alt=\"Open In Colab\"/></a>"
      ]
    },
    {
      "cell_type": "markdown",
      "source": [
        "# **Data Warehouse-Einrichtung für das Team B-Projekt**\n",
        "\n",
        "\n",
        "---\n",
        "\n",
        "\n",
        "## Projektinformationen:\n",
        "- **Projektgruppe:** DMA2024TeamB\n",
        "- **GitHub Repository:** [DMA2024TeamB Repository](https://github.com/Fuenfgeld/DMA2024TeamB)\n",
        "\n",
        "## Vorbereitung:\n",
        "1. **CSV-Quelldaten auf Google Drive laden:**\n",
        "   - Lade die erforderlichen CSV-Dateien auf dein Google Drive hoch.\n",
        "\n",
        "   - Verwende die folgenden Datein und behalte die Dateinamen bei:\n",
        "    - [`patients.csv`](https://github.com/Fuenfgeld/DMA2024TeamB/blob/main/Daten/Quellendaten/patients.csv)\n",
        "     - [`medications.csv`](https://github.com/Fuenfgeld/DMA2024TeamB/blob/main/Daten/Quellendaten/medications.csv)\n",
        "     - [`conditions.csv`](https://github.com/Fuenfgeld/DMA2024TeamB/blob/main/Daten/Quellendaten/conditions.csv)\n",
        "     - [`observations.csv`](https://github.com/Fuenfgeld/DMA2024TeamB/blob/main/Daten/Quellendaten/observations.csv)\n",
        "     - [`encounters.csv`](https://github.com/Fuenfgeld/DMA2024TeamB/blob/main/Daten/Quellendaten/encounters.csv)\n",
        "\n",
        "2. **Leere SQL-Datenbank erstellen:**\n",
        "   - Lade eine leere SQLite-Datenbank mit dem Namen:TeamB_Warehouse.db auf Google Drive hoch\n",
        "   \n",
        "  - Verwende folgende Datei und behalte den Dateinamen bei:\n",
        "    - [`TeamB_Warehouse.db`](https://github.com/Fuenfgeld/DMA2024TeamB/blob/main/Daten/SQL/TeamB_Warehouse.db)\n",
        "   \n",
        "\n",
        "## Durchführung der Data Warehouse-Einrichtung:\n",
        "- Dieses Colab-Notebook ermöglicht die Erstellung einer Data Warehouse-Datenbank (DWH-Datenbank) aus den bereitgestellten CSV-Quelldaten. Die erstellte Datenbank dient als Quell-Datenbank für Analysen.\n",
        "\n",
        "## Schritte im Überblick:\n",
        "1. Importiere erforderliche Bibliotheken und erstelle eine Verbindung zur SQLite-Datenbank.\n",
        "2. Lade die CSV-Quelldaten von Google Drive in Pandas DataFrames.\n",
        "3. Erstelle Tabellen in der SQLite-Datenbank und lade die CSV-Daten in diese Tabellen.\n",
        "4. Führe SQL-Befehle aus, um die Data Warehouse-Zieltablellen zu erstellen und zu befüllen.\n",
        "\n",
        "## Ausführung:\n",
        "- Führe die Schritte im Colab-Notebook nacheinander aus, um das Data Warehouse für das Team B-Projekt erfolgreich einzurichten.\n",
        "\n",
        "**Hinweis:** Stelle sicher, dass du alle notwendigen Dateien auf Google Drive bereitgestellt und die leere SQLite-Datenbank erstellt hast, bevor du mit der Ausführung des Notebooks beginnst.\n"
      ],
      "metadata": {
        "id": "fJ1QTe_dIH7Y"
      }
    },
    {
      "cell_type": "markdown",
      "source": [
        "# **ETL Prozess**\n",
        "\n",
        "\n",
        "---\n",
        "\n"
      ],
      "metadata": {
        "id": "lDLMSNc1LXnb"
      }
    },
    {
      "cell_type": "markdown",
      "source": [
        "# **Importieren von Bibliotheken:**\n",
        "\n",
        "\n",
        "Die benötigten Bibliotheken, einschließlich pandas und sqlite3, werden importiert."
      ],
      "metadata": {
        "id": "XnlWzf3EFfyZ"
      }
    },
    {
      "cell_type": "code",
      "execution_count": 129,
      "metadata": {
        "id": "3NW2nrOgCDMu"
      },
      "outputs": [],
      "source": [
        "import pandas as pd\n",
        "import sqlite3\n",
        "from sqlite3 import Error\n",
        "import random\n",
        "import hashlib"
      ]
    },
    {
      "cell_type": "markdown",
      "source": [
        "# **Festlegen der Dateipfade für CSV-Dateien:**\n",
        "\n",
        "Die Pfade zu den CSV-Dateien aus dem Synthea Datensatz werden definiert.\n",
        "Die Quelldaten sollten vorher auf Google Drive abgelegt werde.\n",
        "\n"
      ],
      "metadata": {
        "id": "PGCB6LAECM5G"
      }
    },
    {
      "cell_type": "code",
      "source": [
        "from google.colab import drive\n",
        "drive.mount('/content/drive')\n",
        "\n"
      ],
      "metadata": {
        "colab": {
          "base_uri": "https://localhost:8080/"
        },
        "id": "-Bw19RRSCXfz",
        "outputId": "c22587e5-5997-4a27-df81-a70af15b924e"
      },
      "execution_count": 130,
      "outputs": [
        {
          "output_type": "stream",
          "name": "stdout",
          "text": [
            "Drive already mounted at /content/drive; to attempt to forcibly remount, call drive.mount(\"/content/drive\", force_remount=True).\n"
          ]
        }
      ]
    },
    {
      "cell_type": "code",
      "source": [
        "patients_csv = '/content/drive/MyDrive/patients.csv'\n",
        "medications_csv = '/content/drive/MyDrive/medications.csv'\n",
        "conditions_csv = '/content/drive/MyDrive/conditions.csv'\n",
        "observations_csv = '/content/drive/MyDrive/observations.csv'\n",
        "encounters_csv = '/content/drive/MyDrive/encounters.csv'"
      ],
      "metadata": {
        "id": "ayHo77i7I803"
      },
      "execution_count": 131,
      "outputs": []
    },
    {
      "cell_type": "markdown",
      "source": [
        "# **Erstellen einer SQLite-Datenbankverbindung:**\n",
        "\n",
        "Eine Verbindung zur SQLite-Datenbank wird hergestellt."
      ],
      "metadata": {
        "id": "kRRsZkG-Wk_Q"
      }
    },
    {
      "cell_type": "code",
      "source": [
        "db_path = '/content/drive/MyDrive/TeamB_Warehouse.db'\n",
        "conn = sqlite3.connect(db_path)\n",
        "\n"
      ],
      "metadata": {
        "id": "C8IWWWtlGoKz"
      },
      "execution_count": 132,
      "outputs": []
    },
    {
      "cell_type": "markdown",
      "source": [
        "# **Einlesen der CSV-Dateien in Pandas DataFrames:**\n",
        "\n",
        "Die Daten aus den CSV-Dateien werden in Pandas DataFrames geladen."
      ],
      "metadata": {
        "id": "-K8ng2mFWqjT"
      }
    },
    {
      "cell_type": "code",
      "source": [
        "patients_df = pd.read_csv(patients_csv)\n",
        "medications_df = pd.read_csv(medications_csv)\n",
        "conditions_df = pd.read_csv(conditions_csv)\n",
        "observations_df = pd.read_csv(observations_csv)\n",
        "encounters_df = pd.read_csv(encounters_csv)\n",
        "\n"
      ],
      "metadata": {
        "id": "X2_TP1KyIal1"
      },
      "execution_count": 133,
      "outputs": []
    },
    {
      "cell_type": "markdown",
      "source": [
        "# **Erstellen von Tabellen in der SQLite-Datenbank:**\n",
        "\n",
        "Die Tabellen *patients*, *medications*, *conditions*, *observations* und *encounters* werden als separate Tabellen in der SQLite-Datenbank erstellt."
      ],
      "metadata": {
        "id": "RbUt6XmnWteN"
      }
    },
    {
      "cell_type": "code",
      "source": [
        "patients_df.to_sql('patients', conn, index=False, if_exists='replace')\n",
        "medications_df.to_sql('medications', conn, index=False, if_exists='replace')\n",
        "conditions_df.to_sql('conditions', conn, index=False, if_exists='replace')\n",
        "observations_df.to_sql('observations', conn, index=False, if_exists='replace')\n",
        "encounters_df.to_sql('encounters', conn, index=False, if_exists='replace')\n",
        "\n"
      ],
      "metadata": {
        "colab": {
          "base_uri": "https://localhost:8080/"
        },
        "id": "yM-I7_bIIcn2",
        "outputId": "cfdedba4-8d01-4768-a3e2-5a3801ec24d3"
      },
      "execution_count": 134,
      "outputs": [
        {
          "output_type": "execute_result",
          "data": {
            "text/plain": [
              "8603"
            ]
          },
          "metadata": {},
          "execution_count": 134
        }
      ]
    },
    {
      "cell_type": "markdown",
      "source": [
        "# **Ausführen von SQL-Befehlen zum Erstellen und Befüllen der Zieltabelle:**\n",
        "\n",
        "SQL-Befehle werden verwendet, um eine leere F_BreastCancerQoL-Fakten-Tabelle zu erstellen.\n",
        "Temporäre Tabellen werden erstellt, um bestimmte Informationen zu extrahieren.\n",
        "Diverse Dimensionstabellen (d_Patients, d_Agegroups, d_Medications, d_Cancertherapy, d_Comorbidity, d_PrimaryTumor) werden erstellt.\n",
        "Die F_BreastCancerQoL-Tabelle wird mit den relevanten Informationen aus den temporären und dimensionalen Tabellen gefüllt.\n",
        "\n",
        "\n",
        "Im letzten Schritt werden temporäre Tabellen und nicht mehr benötigte Originaltabellen  gelöscht."
      ],
      "metadata": {
        "id": "fwUsW6LfWwRI"
      }
    },
    {
      "cell_type": "code",
      "source": [
        "sql_commands = \"\"\"\n",
        "-- Leere FACT-Tabelle erstellen\n",
        "DROP TABLE IF EXISTS F_BreastCancerQoL;\n",
        "\n",
        "CREATE TABLE F_BreastCancerQoL (\n",
        "  PatientId UUID,\n",
        "  Age_group_diagnosis_ID Integer,\n",
        "  Primary_Tumor_ID String,\n",
        "  Comorbidity_ID String,\n",
        "  Comorbidity_YesNo Integer,\n",
        "  Ethnicity String,\n",
        "  Gender String,\n",
        "  Cancertherapy_ID String,\n",
        "  Chemotherapy_YesNo Integer,\n",
        "  Targetedtherapy_YesNo Integer,\n",
        "  Medication_ID String,\n",
        "  Medication_YesNo Integer,\n",
        "  QoL_Value_first Integer,\n",
        "  QoL_Value_last Integer\n",
        ");\n",
        "\n",
        "-- Temporäre Tabelle mit MedicationID (=Medication.Code) erstellen (ohne Krebstherapie):\n",
        "DROP TABLE IF EXISTS temp_patients_medicationID;\n",
        "\n",
        "CREATE TABLE temp_patients_medicationID AS\n",
        "SELECT DISTINCT p.id, m.code\n",
        "FROM patients p\n",
        "JOIN medications m ON p.id = m.patient\n",
        "JOIN conditions c ON p.id = c.patient\n",
        "WHERE m.reasoncode != '254837009' AND c.code = '254837009';\n",
        "\n",
        "-- Temporäre Tabelle mit CancertherapieID (= Medication.Code):\n",
        "DROP TABLE IF EXISTS temp_patients_cancertherapyID;\n",
        "\n",
        "CREATE TABLE temp_patients_cancertherapyID AS\n",
        "SELECT DISTINCT p.id, m.code\n",
        "FROM patients p\n",
        "JOIN medications m ON p.id = m.patient\n",
        "JOIN conditions c ON p.id = c.patient\n",
        "WHERE m.reasoncode = '254837009' AND c.code = '254837009';\n",
        "\n",
        "-- Temporäre Tabelle mit PatientID erstellen (Nur Brustkrebspatienten):\n",
        "DROP TABLE IF EXISTS temp_patients;\n",
        "\n",
        "CREATE TABLE temp_patients AS\n",
        "SELECT DISTINCT p.id, p.ethnicity, p.gender\n",
        "FROM patients p\n",
        "JOIN observations o ON p.id = o.patient\n",
        "JOIN conditions c ON p.id = c.patient\n",
        "WHERE c.code = '254837009';\n",
        "\n",
        "-- Temporäre Tabelle mit Comorbidities erstellen (ohne Brustkrebserkrankungen):\n",
        "DROP TABLE IF EXISTS temp_patients_comorbidity;\n",
        "\n",
        "CREATE TABLE temp_patients_comorbidity AS\n",
        "SELECT DISTINCT p.id, c.code\n",
        "FROM conditions c\n",
        "JOIN temp_patients p ON p.id = c.patient\n",
        "WHERE c.code != '254837009';\n",
        "\n",
        "-- Temporäre Tabelle mit erstem QoL Wert erstellen\n",
        "DROP TABLE IF EXISTS temp_qol_value_first;\n",
        "\n",
        "CREATE TABLE temp_qol_value_first AS\n",
        "SELECT o.value AS qol_value_first, c.patient, MIN(o.date) AS earliest_date\n",
        "FROM observations o\n",
        "JOIN conditions c ON o.PATIENT = c.patient\n",
        "WHERE o.code = 'QOLS' AND c.code = '254837009'\n",
        "GROUP BY c.patient\n",
        "ORDER BY c.patient;\n",
        "\n",
        "-- Temporäre Tabelle mit letztem QoL Wert erstellen:\n",
        "DROP TABLE IF EXISTS temp_qol_value_last;\n",
        "\n",
        "CREATE TABLE temp_qol_value_last AS\n",
        "SELECT o.value AS qol_value_last, c.patient, MAX(o.date) AS latest_date\n",
        "FROM observations o\n",
        "JOIN conditions c ON o.PATIENT = c.patient\n",
        "WHERE o.code = 'QOLS' AND c.code = '254837009'\n",
        "GROUP BY c.patient\n",
        "ORDER BY c.patient;\n",
        "\n",
        "-- d_Patients Tabelle erstellen:\n",
        "DROP TABLE IF EXISTS d_Patients;\n",
        "\n",
        "CREATE TABLE d_Patients AS\n",
        "SELECT\n",
        "  p.id AS Id,\n",
        "  STRFTIME('%Y', 'now') - STRFTIME('%Y', p.birthdate) - (STRFTIME('%m-%d', 'now') < STRFTIME('%m-%d', p.birthdate)) AS AGE_Studyinclusion,\n",
        "  STRFTIME('%Y', c.START) - STRFTIME('%Y', p.birthdate) - (STRFTIME('%m-%d', c.START) < STRFTIME('%m-%d', p.birthdate)) AS AGE_diagnosis,\n",
        "  p.marital AS Maritalstatus\n",
        "FROM\n",
        "  patients p\n",
        "JOIN conditions c ON p.id = c.patient\n",
        "WHERE c.code = '254837009';\n",
        "\n",
        "-- d_Agegroups Tabelle erstellen:\n",
        "DROP TABLE IF EXISTS d_Agegroups;\n",
        "\n",
        "CREATE TABLE d_Agegroups (\n",
        "  ID Integer [primary key],\n",
        "  Age_group String [not null],\n",
        "  Min_Age Integer [not null],\n",
        "  Max_Age Integer [not null]\n",
        ");\n",
        "\n",
        "INSERT INTO d_Agegroups VALUES\n",
        "(1, '<50', 0, 49),\n",
        "(2, '>=50', 50, 999);\n",
        "\n",
        "\n",
        "-- d_Medications Tabelle erstellen:\n",
        "DROP TABLE IF EXISTS d_Medications;\n",
        "\n",
        "CREATE TABLE d_Medications AS\n",
        "SELECT DISTINCT\n",
        "  code AS ID,\n",
        "  CASE\n",
        "    WHEN Description LIKE '%Clopidogrel%' THEN 'Clopidogrel'\n",
        "    WHEN Description LIKE '%Simvastatin%' THEN 'Simvastatin'\n",
        "    WHEN Description LIKE '%Amlodipine%' THEN 'Amlodipine'\n",
        "    WHEN Description LIKE '%Nitroglycerin%' THEN 'Nitroglycerin'\n",
        "    WHEN Description LIKE '%Warfarin%' THEN 'Warfarin'\n",
        "    WHEN Description LIKE '%Verapamil%' THEN 'Verapamil'\n",
        "    WHEN Description LIKE '%Digoxin%' THEN 'Digoxin'\n",
        "    WHEN Description LIKE '%Epinephrine%' THEN 'Epinephrine'\n",
        "    WHEN Description LIKE '%Amiodarone%' THEN 'Amiodarone'\n",
        "    WHEN Description LIKE '%Alteplase%' THEN 'Alteplase'\n",
        "    WHEN Description LIKE '%Atropine%' THEN 'Atropine'\n",
        "    WHEN Description LIKE '%Atorvastatin%' THEN 'Atorvastatin'\n",
        "    WHEN Description LIKE '%Captopril%' THEN 'Captopril'\n",
        "  END AS Description\n",
        "FROM medications\n",
        "WHERE Description LIKE '%Clopidogrel%'\n",
        "   OR Description LIKE '%Simvastatin%'\n",
        "   OR Description LIKE '%Amlodipine%'\n",
        "   OR Description LIKE '%Nitroglycerin%'\n",
        "   OR Description LIKE '%Warfarin%'\n",
        "   OR Description LIKE '%Verapamil%'\n",
        "   OR Description LIKE '%Digoxin%'\n",
        "   OR Description LIKE '%Epinephrine%'\n",
        "   OR Description LIKE '%Amiodarone%'\n",
        "   OR Description LIKE '%Alteplase%'\n",
        "   OR Description LIKE '%Atropine%'\n",
        "   OR Description LIKE '%Atorvastatin%'\n",
        "   OR Description LIKE '%Captopril%';\n",
        "\n",
        "-- d_Cancertherapy Tabelle erstellen:\n",
        "DROP TABLE IF EXISTS d_Cancertherapy;\n",
        "\n",
        "CREATE TABLE d_Cancertherapy AS\n",
        "SELECT DISTINCT\n",
        "  code AS ID,\n",
        "  CASE\n",
        "    WHEN Description LIKE '%Anastrozole%' THEN 'Anastrozole (AI)'\n",
        "    WHEN Description LIKE '%Trastuzumab%' THEN 'Trastuzumab (anti-HER2 antibody)'\n",
        "    WHEN Description LIKE '%Palbociclib%' THEN 'Palbociclib (CDK4/6 inhibitor)'\n",
        "    WHEN Description LIKE '%Tamoxifen%' THEN 'Tamoxifen (SERM)'\n",
        "    WHEN Description LIKE '%Verzenio%' THEN 'Abemaciclib (CDK4/6 inhibitor)'\n",
        "    WHEN Description LIKE '%Epirubicin%' THEN 'Epirubicin'\n",
        "    WHEN Description LIKE '%Cyclophosphamide%' THEN 'Cyclophosphamide'\n",
        "    WHEN Description LIKE '%Paclitaxel%' THEN 'Paclitaxel'\n",
        "  END AS Description,\n",
        "  CASE\n",
        "    WHEN Description LIKE '%Epirubicin%' THEN 1\n",
        "    WHEN Description LIKE '%Cyclophosphamide%' THEN 1\n",
        "    WHEN Description LIKE '%Paclitaxel%' THEN 1\n",
        "    ELSE 0\n",
        "  END AS Chemotherapy,\n",
        "  CASE\n",
        "    WHEN Description LIKE '%Anastrozole%' THEN 1\n",
        "    WHEN Description LIKE '%Trastuzumab%' THEN 1\n",
        "    WHEN Description LIKE '%Palbociclib%' THEN 1\n",
        "    WHEN Description LIKE '%Tamoxifen%' THEN 1\n",
        "    WHEN Description LIKE '%Verzenio%' THEN 1\n",
        "    ELSE 0\n",
        "  END AS TargetedTherapy\n",
        "FROM medications\n",
        "WHERE Description LIKE '%Anastrozole%'\n",
        "   OR Description LIKE '%Trastuzumab%'\n",
        "   OR Description LIKE '%Palbociclib%'\n",
        "   OR Description LIKE '%Tamoxifen%'\n",
        "   OR Description LIKE '%Verzenio%'\n",
        "   OR Description LIKE '%Epirubicin%'\n",
        "   OR Description LIKE '%Cyclophosphamide%'\n",
        "   OR Description LIKE '%Paclitaxel%';\n",
        "\n",
        "--d_Comorbidity erstellen:\n",
        "DROP TABLE IF EXISTS d_Comorbidity;\n",
        "\n",
        "CREATE TABLE d_Comorbidity AS\n",
        "SELECT DISTINCT code AS ID, description AS Description\n",
        "FROM conditions\n",
        "WHERE code != '254837009';\n",
        "\n",
        "--d_PrimaryTumor erstellen:\n",
        "DROP TABLE IF EXISTS d_PrimaryTumor;\n",
        "\n",
        "CREATE TABLE d_PrimaryTumor AS\n",
        "SELECT\n",
        "  o.encounter AS ID,\n",
        "  MAX(CASE WHEN o.code = '85319-2' THEN o.value END) AS HER2_Status,\n",
        "  MAX(CASE WHEN o.code = '10480-2' THEN o.value END) AS HR_Status,\n",
        "  MAX(CASE WHEN o.code = '21908-9' THEN o.value END) AS Stage,\n",
        "  MAX(CASE WHEN o.code = '21906-3' THEN o.value END) AS Nodal_Status,\n",
        "  MAX(CASE WHEN o.code = '21905-5' THEN o.value END) AS T_Status,\n",
        "  MAX(CASE WHEN o.code = '21907-1' THEN o.value END) AS M_Status\n",
        "FROM\n",
        "  observations o\n",
        "WHERE\n",
        "  o.code IN ('85319-2', '10480-2', '21908-9', '21906-3', '21905-5', '21907-1')\n",
        "GROUP BY\n",
        "  o.encounter;\n",
        "\n",
        "-- Temporäre Tabelle mit Primary Tumor ID erstellen (nur wenn Histologische Info vorhanden):\n",
        "DROP TABLE IF EXISTS temp_encounter_primary_tumor;\n",
        "\n",
        "CREATE TABLE temp_encounter_primary_tumor AS\n",
        "SELECT e.patient, pt.id AS primarytumor_ID from encounters e, d_PrimaryTumor pt\n",
        "WHERE e.id = pt.id;\n",
        "\n",
        "-- Fülle F_BreastCancerQoL auf:\n",
        "\n",
        "INSERT INTO F_BreastCancerQoL (PatientId, Age_group_diagnosis_ID, primary_tumor_id, Comorbidity_ID, Comorbidity_YesNo, Ethnicity, Gender, Cancertherapy_ID, Chemotherapy_YesNo, Targetedtherapy_YesNo, Medication_ID, Medication_YesNo, QoL_Value_first, QoL_Value_last)\n",
        "SELECT\n",
        "  p.id AS PatientId,\n",
        "  CASE\n",
        "    WHEN d.Age_diagnosis < 50 THEN 1\n",
        "    WHEN d.age_diagnosis >= 50 THEN 2\n",
        "    ELSE NULL\n",
        "  END AS Age_group_diagnosis_ID,\n",
        "  pt.primarytumor_ID AS primary_tumor_id,\n",
        "  c.code AS Comorbidity_ID,\n",
        "  CASE WHEN c.code IS NOT NULL THEN 1 ELSE 0 END AS Comorbidity_YesNo,\n",
        "  p.ethnicity AS Ethnicity,\n",
        "  p.gender AS Gender,\n",
        "  ct.code AS Cancertherapy_ID,\n",
        "  dct.chemotherapy AS Chemotherapy_YesNo,\n",
        "  dct.targetedtherapy AS Targetedtherapy_YesNo,\n",
        "  m.code AS Medication_ID,\n",
        "  CASE WHEN m.code IS NOT NULL THEN 1 ELSE 0 END AS Medication_YesNo,\n",
        "  qvf.qol_value_first AS QoL_Value_first,\n",
        "  qvl.qol_value_last AS QoL_Value_last\n",
        "FROM d_patients d\n",
        "LEFT JOIN temp_patients_comorbidity c ON d.id = c.id\n",
        "LEFT JOIN temp_patients_cancertherapyID ct ON d.id = ct.id\n",
        "LEFT JOIN temp_patients_medicationID m ON d.id = m.id\n",
        "LEFT JOIN temp_qol_value_first qvf ON d.id = qvf.patient\n",
        "LEFT JOIN temp_qol_value_last qvl ON d.id = qvl.patient\n",
        "LEFT JOIN temp_patients p ON d.id = p.id\n",
        "LEFT JOIN d_Cancertherapy dct ON ct.code = dct.ID\n",
        "LEFT JOIN temp_encounter_primary_tumor pt ON p.id = pt.patient;\n",
        "\n",
        "-- Drop temp tables\n",
        "\n",
        "DROP TABLE IF EXISTS temp_patients;\n",
        "DROP TABLE IF EXISTS temp_patients_cancertherapyID;\n",
        "DROP TABLE IF EXISTS temp_patients_medicationID;\n",
        "DROP TABLE IF EXISTS temp_patients_comorbidity;\n",
        "DROP TABLE IF EXISTS temp_qol_value_first;\n",
        "DROP TABLE IF EXISTS temp_qol_value_last;\n",
        "DROP TABLE IF EXISTS temp_encounter_primary_tumor;\n",
        "\n",
        "-- Drop other tables\n",
        "\n",
        "DROP TABLE IF EXISTS medications;\n",
        "DROP TABLE IF EXISTS conditions;\n",
        "DROP TABLE IF EXISTS observations;\n",
        "DROP TABLE IF EXISTS careplans;\n",
        "DROP TABLE IF EXISTS conditions;\n",
        "DROP TABLE IF EXISTS devices;\n",
        "DROP TABLE IF EXISTS disease;\n",
        "DROP TABLE IF EXISTS encounters;\n",
        "DROP TABLE IF EXISTS imaging_studies;\n",
        "DROP TABLE IF EXISTS immunizations;\n",
        "DROP TABLE IF EXISTS patients;\n",
        "DROP TABLE IF EXISTS procedures;\n",
        "\"\"\"\n",
        "conn.executescript(sql_commands)\n",
        "\n"
      ],
      "metadata": {
        "colab": {
          "base_uri": "https://localhost:8080/"
        },
        "id": "RSXEBWahId9q",
        "outputId": "1d264692-4e4f-46ab-e2f5-d1772246c187"
      },
      "execution_count": 135,
      "outputs": [
        {
          "output_type": "execute_result",
          "data": {
            "text/plain": [
              "<sqlite3.Cursor at 0x7aa18db4d940>"
            ]
          },
          "metadata": {},
          "execution_count": 135
        }
      ]
    },
    {
      "cell_type": "markdown",
      "source": [
        "# **Anonymisierung der Patienten IDs:**"
      ],
      "metadata": {
        "id": "yoR6hMY9E2zA"
      }
    },
    {
      "cell_type": "code",
      "execution_count": 136,
      "metadata": {
        "id": "il4Zd6Z4-NuT",
        "outputId": "b626669f-6283-4960-b5c6-0e883230db93",
        "colab": {
          "base_uri": "https://localhost:8080/"
        }
      },
      "outputs": [
        {
          "output_type": "stream",
          "name": "stdout",
          "text": [
            "Anzahl der Patienten Ids (muss 11 sein): 11\n",
            "Checksumme d_Patients:  -7487642478202879280\n",
            "Die Überprüfung der pseudonymisierten Daten in d_Patients per Checksumme war erfolgreich.\n",
            "\n",
            "Checksumme F_BreastCancerQoL:  -1342178853738958170\n",
            "Die Überprüfung der pseudonymisierten Daten in F_BreastCancerQoL per Checksumme war nicht erfolgreich.\n",
            "\n",
            "Folgende Tabellen sind in der Datenbank vorhanden: \n",
            "[('d_Agegroups',), ('d_Medications',), ('d_Cancertherapy',), ('d_Comorbidity',), ('d_PrimaryTumor',), ('d_Patients',), ('F_BreastCancerQoL',)]\n",
            "\n",
            "Hashtabellen von d_Patients und F_BreastCancerQoL:\n",
            "[('d327bc941b7432b4ce67673374d65779059f0c2d0d2f1f938142422e1a07e718',), ('d8b8f7a3c33e82945070be48c82e7d42c397db128e375f03304f145a5dade24b',), ('b4d14b001866aa224846236271aeaee7e56a39aabcc90eaf3f8c52348a4a0ec6',), ('6a165118b4d3d1fb30d0e6295c8ce2551dc5abe193d763b40f6c1c814c347b68',), ('a55c3b9d9cb8b3ce64293b4ea89363f29dc8a13fbefccddf7e9de0f199dc0a44',), ('50da868f38af778f1dd5408048fd1e9539baabedeaccfb75521a80033f183876',), ('0c066772082fd18fe99df724327e18b60eee6816e682140d0e31e4ce67c8fe8f',), ('f8c5bb1b8969566ede36b431910712f5cfa7d66559f5f9d123ee708911a390c2',), ('d4255988f2c63f933b3c884c728848feca90903a5981e26cf38ec220f78ca116',), ('5028f8bef1c31e489ae3595aaeee489ac640d7e31048549fe0e0ae94cd5bb718',), ('e189c8ee5990d1db5af375bb95e06209c773d32c1b874f880dcdd9016f0222ee',)]\n",
            "[('d327bc941b7432b4ce67673374d65779059f0c2d0d2f1f938142422e1a07e718',), ('d8b8f7a3c33e82945070be48c82e7d42c397db128e375f03304f145a5dade24b',), ('d8b8f7a3c33e82945070be48c82e7d42c397db128e375f03304f145a5dade24b',), ('d8b8f7a3c33e82945070be48c82e7d42c397db128e375f03304f145a5dade24b',), ('d8b8f7a3c33e82945070be48c82e7d42c397db128e375f03304f145a5dade24b',), ('d8b8f7a3c33e82945070be48c82e7d42c397db128e375f03304f145a5dade24b',), ('b4d14b001866aa224846236271aeaee7e56a39aabcc90eaf3f8c52348a4a0ec6',), ('b4d14b001866aa224846236271aeaee7e56a39aabcc90eaf3f8c52348a4a0ec6',), ('6a165118b4d3d1fb30d0e6295c8ce2551dc5abe193d763b40f6c1c814c347b68',), ('a55c3b9d9cb8b3ce64293b4ea89363f29dc8a13fbefccddf7e9de0f199dc0a44',), ('50da868f38af778f1dd5408048fd1e9539baabedeaccfb75521a80033f183876',), ('50da868f38af778f1dd5408048fd1e9539baabedeaccfb75521a80033f183876',), ('50da868f38af778f1dd5408048fd1e9539baabedeaccfb75521a80033f183876',), ('0c066772082fd18fe99df724327e18b60eee6816e682140d0e31e4ce67c8fe8f',), ('0c066772082fd18fe99df724327e18b60eee6816e682140d0e31e4ce67c8fe8f',), ('f8c5bb1b8969566ede36b431910712f5cfa7d66559f5f9d123ee708911a390c2',), ('f8c5bb1b8969566ede36b431910712f5cfa7d66559f5f9d123ee708911a390c2',), ('d4255988f2c63f933b3c884c728848feca90903a5981e26cf38ec220f78ca116',), ('5028f8bef1c31e489ae3595aaeee489ac640d7e31048549fe0e0ae94cd5bb718',), ('e189c8ee5990d1db5af375bb95e06209c773d32c1b874f880dcdd9016f0222ee',)]\n",
            "\n",
            "Die ID aller 11 Patienten in der Tabelle d_Patients wurde gehasht.\n",
            "Alle Patient_IDs in der Tabelle F_BreastCancerQoL wurden erfolgreich gehasht.\n"
          ]
        }
      ],
      "source": [
        "# Verbindung zur DWH-DB herstellen\n",
        "conn = sqlite3.connect(db_path)\n",
        "if conn is not None:\n",
        "    cursor = conn.cursor()\n",
        "else:\n",
        "    print(\"Verbindung fehlgeschlagen. Bitte überprüfen!\")\n",
        "\n",
        "# Alle Id's aus der Tabelle \"d_Patients\" ziehen\n",
        "cursor.execute(\"SELECT Id from d_Patients;\")\n",
        "d_Patients_ids = cursor.fetchall()\n",
        "\n",
        "# Für spätere Tests die Anzahl der Patienten-Ids in der Tabelle F_BreastCancerQoL auslesen\n",
        "cursor.execute(\"SELECT PatientId from F_BreastCancerQoL;\")\n",
        "before_hash_pid_F_BreastCancerQoL = cursor.fetchall()\n",
        "before_hash_pid_F_BreastCancerQoL = len(before_hash_pid_F_BreastCancerQoL)\n",
        "\n",
        "# Check, müssen 11 Patienten-Ids sein\n",
        "print(\"Anzahl der Patienten Ids (muss 11 sein): \" + str(len(d_Patients_ids)))\n",
        "\n",
        "# Dictionary erstellen\n",
        "anonymized_Patients_ids = {}\n",
        "for ids in d_Patients_ids:\n",
        "    # Eigentliche Anonymisierung, hashen der bisherigen ID mittels SHA256-Verschlüsselung,\n",
        "    # als Salt wird eine randomisierte Zeichenkette verwendet (random.random)\n",
        "    anonymized_patients_ids[ids[0]] = hashlib.sha256(f\"{ids[0]}={random.random()}\".encode()).hexdigest()\n",
        "\n",
        "# Check, ob alle Ids erfolgreich gehasht wurden\n",
        "# Wenn \"alte\" ID gleich \"neuer\" ID, dann Fehlermeldung\n",
        "for id in d_Patients_ids:\n",
        "    if id[0] in anonymized_patients_ids.values():\n",
        "        print(\"Eine oder mehrere IDs wurden nicht gehasht!\")\n",
        "\n",
        "# Änderungen in die DB-Tabellen \"d_Patients\" und \"F_BreastCancerQoL\" schreiben, dazu Tabellen, welche geändert werden sollen, jeweils aus DB ziehen\n",
        "d_Patients_table_df = pd.read_sql_query(\"SELECT * FROM d_Patients\", conn)\n",
        "F_BreastCancerQoL_df = pd.read_sql_query(\"SELECT * FROM F_BreastCancerQoL\", conn)\n",
        "\n",
        "# Ersetzen der Ids in der Tabelle d_Patients, Spalte \"Id\"\n",
        "d_Patients_table_df = d_Patients_table_df.replace({\"Id\": anonymized_patients_ids})\n",
        "# Berechnung von Hashes und einer Checksumme für die Tabelle d_Patients\n",
        "d_Patients_table_df_noid = d_Patients_table_df.drop(columns=[\"Id\"])\n",
        "d_Patients_hashes = hash_pandas_object(d_patients_table_df_noid)\n",
        "print(\"Checksumme d_Patients: \", d_Patients_hashes.sum())\n",
        "if (d_Patients_hashes.sum() == -7487642478202879280):\n",
        "    print(\"Die Überprüfung der pseudonymisierten Daten in d_Patients per Checksumme war erfolgreich.\\n\")\n",
        "else:\n",
        "    print(\"Die Überprüfung der pseudonymisierten Daten in d_Patients per Checksumme war nicht erfolgreich.\\n\")\n",
        "\n",
        "# Ersetzen der Ids in der Tabelle F_BreastCancerQoL, Spalte \"PatientID\"\n",
        "F_BreastCancerQoL_df = F_BreastCancerQoL_df.replace({\"PatientId\": anonymized_patients_ids})\n",
        "# Berechnung von Hashes und einer Checksumme für die Tabelle F_BreastCancerQoL\n",
        "F_BreastCancerQoL_df_noid = F_BreastCancerQoL_df.drop(columns=[\"PatientId\"])\n",
        "F_BreastCancerQoL_hashes = hash_pandas_object(F_BreastCancerQoL_df_noid)\n",
        "print(\"Checksumme F_BreastCancerQoL: \", F_BreastCancerQoL_hashes.sum())\n",
        "if (F_BreastCancerQoL_hashes.sum() == 3629088998158101975):\n",
        "    print(\"Die Überprüfung der pseudonymisierten Daten in F_BreastCancerQoL per Checksumme war erfolgreich.\\n\")\n",
        "else:\n",
        "    print(\"Die Überprüfung der pseudonymisierten Daten in F_BreastCancerQoL per Checksumme war nicht erfolgreich.\\n\")\n",
        "\n",
        "# Bisherige Tabellen in der DB löschen\n",
        "conn.execute(\"DROP TABLE IF EXISTS d_Patients;\")\n",
        "conn.execute(\"DROP TABLE IF EXISTS F_BreastCancerQoL;\")\n",
        "\n",
        "# Veränderte, Anonymisierte Tabellen in die DB schreiben\n",
        "d_Patients_table_df.to_sql(name=\"d_Patients\", con=conn, if_exists='replace', index=False)\n",
        "F_BreastCancerQoL_df.to_sql(name=\"F_BreastCancerQoL\", con=conn, if_exists='replace', index=False)\n",
        "\n",
        "# Zur Sicherheit: Alle Tabellennamen aus der Datenbank ziehen...\n",
        "cursor.execute(\"SELECT name FROM sqlite_master WHERE type='table';\")\n",
        "tablelist = cursor.fetchall()\n",
        "\n",
        "# ...und die Tabellennamen ausgeben\n",
        "if tablelist == []:\n",
        "    print(\"In der Data Warehouse Datenbank sind keine Tabellen vorhanden. Sie können mit der Ausführung des Skriptes fortfahren.\")\n",
        "else:\n",
        "    print(\"Folgende Tabellen sind in der Datenbank vorhanden: \")\n",
        "    print(tablelist)\n",
        "\n",
        "# Testen, ob die gehashten Werte in der DB stehen\n",
        "cursor.execute(\"SELECT Id from d_Patients;\")\n",
        "hashtest_patients = cursor.fetchall()\n",
        "cursor.execute(\"SELECT PatientId from F_BreastCancerQoL;\")\n",
        "hashtest_encounters = cursor.fetchall()\n",
        "\n",
        "print(\"\\n\" + \"Hashtabellen von d_Patients und F_BreastCancerQoL:\")\n",
        "print(hashtest_patients)\n",
        "print(hashtest_encounters)\n",
        "\n",
        "# Testen, ob die Übertragung mittels Dictionary funktioniert hat:\n",
        "amount_ids = 0\n",
        "for ids_total in hashtest_patients:\n",
        "    if ids_total in hashtest_encounters:\n",
        "        amount_ids = amount_ids + 1\n",
        "\n",
        "# Erhält man als Ergebnis 11, so sollte der Vorgang funktioniert haben\n",
        "if amount_ids == 11:\n",
        "    print(\"\\n\" + \"Die ID aller 11 Patienten in der Tabelle d_Patients wurde gehasht.\")\n",
        "\n",
        "# Final überprüfen, ob vor und nach dem Hashvorgang die gleiche Anzahl an Ids in der Tabelle F_BreastCancerQoL stehen:\n",
        "cursor.execute(\"SELECT PatientId from F_BreastCancerQoL;\")\n",
        "after_hash_pid_F_BreastCancerQoL = cursor.fetchall()\n",
        "after_hash_pid_F_BreastCancerQoL = len(after_hash_pid_F_BreastCancerQoL)\n",
        "\n",
        "if before_hash_pid_F_BreastCancerQoL == after_hash_pid_F_BreastCancerQoL:\n",
        "    print(\"Alle Patient_IDs in der Tabelle F_BreastCancerQoL wurden erfolgreich gehasht.\")\n",
        "else:\n",
        "    print(\"Es wurden nicht alle Patient_IDs in der F_BreastCancerQoL gehasht.\")"
      ]
    },
    {
      "cell_type": "markdown",
      "source": [
        "# **Anonymisierung der PrimaryTumor IDs:**"
      ],
      "metadata": {
        "id": "0sC0rxcJHfN2"
      }
    },
    {
      "cell_type": "code",
      "source": [
        "# Verbindung zur DWH-DB herstellen\n",
        "conn = sqlite3.connect(db_path)\n",
        "if conn is not None:\n",
        "    cursor = conn.cursor()\n",
        "else:\n",
        "    print(\"Verbindung fehlgeschlagen. Bitte überprüfen!\")\n",
        "\n",
        "# Alle Id's aus der Tabelle \"d_PrimaryTumor\" ziehen\n",
        "cursor.execute(\"SELECT ID from d_PrimaryTumor;\")\n",
        "d_primary_tumor_ids = cursor.fetchall()\n",
        "\n",
        "# Für spätere Tests die Anzahl der Primary_Tumor_IDs in der Tabelle F_BreastCancerQoL auslesen\n",
        "cursor.execute(\"SELECT Primary_Tumor_ID from F_BreastCancerQoL;\")\n",
        "before_hash_primary_tumor_F_BreastCancerQoL = cursor.fetchall()\n",
        "before_hash_primary_tumor_F_BreastCancerQoL = len(before_hash_primary_tumor_F_BreastCancerQoL)\n",
        "\n",
        "# Check, müssen 11 Primary_Tumor_IDs sein\n",
        "print(\"Anzahl der Primary_Tumor_IDs (muss 11 sein): \" + str(len(d_primary_tumor_ids)))\n",
        "\n",
        "# Dictionary erstellen\n",
        "anonymized_primary_tumor_ids = {}\n",
        "for primary_tumor_id in d_primary_tumor_ids:\n",
        "    # Eigentliche Anonymisierung, hashen der bisherigen ID mittels SHA256-Verschlüsselung,\n",
        "    # als Salt wird eine randomisierte Zeichenkette verwendet (random.random)\n",
        "    anonymized_primary_tumor_ids[primary_tumor_id[0]] = hashlib.sha256(f\"{primary_tumor_id[0]}={random.random()}\".encode()).hexdigest()\n",
        "\n",
        "# Check, ob alle Primary_Tumor_IDs erfolgreich gehasht wurden\n",
        "# Wenn \"alte\" ID gleich \"neuer\" ID, dann Fehlermeldung\n",
        "for primary_tumor_id in d_primary_tumor_ids:\n",
        "    if primary_tumor_id[0] in anonymized_primary_tumor_ids.values():\n",
        "        print(\"Eine oder mehrere IDs wurden nicht gehasht!\")\n",
        "\n",
        "# Änderungen in die DB-Tabellen \"d_PrimaryTumor\" und \"F_BreastCancerQoL\" schreiben, dazu Tabellen, welche geändert werden sollen, jeweils aus DB ziehen\n",
        "d_primary_tumor_table_df = pd.read_sql_query(\"SELECT * FROM d_PrimaryTumor\", conn)\n",
        "F_BreastCancerQoL_df = pd.read_sql_query(\"SELECT * FROM F_BreastCancerQoL\", conn)\n",
        "\n",
        "# Ersetzen der Ids in der Tabelle d_PrimaryTumor, Spalte \"ID\"\n",
        "d_primary_tumor_table_df = d_primary_tumor_table_df.replace({\"ID\": anonymized_primary_tumor_ids})\n",
        "# Berechnung von Hashes und einer Checksumme für die Tabelle d_PrimaryTumor\n",
        "d_primary_tumor_table_df_noid = d_primary_tumor_table_df.drop(columns=[\"ID\"])\n",
        "d_primary_tumor_hashes = hash_pandas_object(d_primary_tumor_table_df_noid)\n",
        "print(\"Checksumme d_PrimaryTumor: \", d_primary_tumor_hashes.sum())\n",
        "if (d_primary_tumor_hashes.sum() == 842637750972571563):\n",
        "    print(\"Die Überprüfung der pseudonymisierten Daten in d_PrimaryTumor per Checksumme war erfolgreich.\\n\")\n",
        "else:\n",
        "    print(\"Die Überprüfung der pseudonymisierten Daten in d_PrimaryTumor per Checksumme war nicht erfolgreich.\\n\")\n",
        "\n",
        "# Ersetzen der Ids in der Tabelle F_BreastCancerQoL, Spalte \"Primary_Tumor_ID\"\n",
        "F_BreastCancerQoL_df = F_BreastCancerQoL_df.replace({\"Primary_Tumor_ID\": anonymized_primary_tumor_ids})\n",
        "# Berechnung von Hashes und einer Checksumme für die Tabelle F_BreastCancerQoL\n",
        "F_BreastCancerQoL_df_noid = F_BreastCancerQoL_df.drop(columns=[\"Primary_Tumor_ID\"])\n",
        "F_BreastCancerQoL_hashes = hash_pandas_object(F_BreastCancerQoL_df_noid)\n",
        "print(\"Checksumme F_BreastCancerQoL: \", F_BreastCancerQoL_hashes.sum())\n",
        "if (F_BreastCancerQoL_hashes.sum() == -3476499510884993290):\n",
        "    print(\"Die Überprüfung der pseudonymisierten Daten in F_BreastCancerQoL per Checksumme war erfolgreich.\\n\")\n",
        "else:\n",
        "    print(\"Die Überprüfung der pseudonymisierten Daten in F_BreastCancerQoL per Checksumme war nicht erfolgreich.\\n\")\n",
        "\n",
        "# Bisherige Tabellen in der DB löschen\n",
        "conn.execute(\"DROP TABLE IF EXISTS d_PrimaryTumor;\")\n",
        "conn.execute(\"DROP TABLE IF EXISTS F_BreastCancerQoL;\")\n",
        "\n",
        "# Veränderte, Anonymisierte Tabellen in die DB schreiben\n",
        "d_primary_tumor_table_df.to_sql(name=\"d_PrimaryTumor\", con=conn, if_exists='replace', index=False)\n",
        "F_BreastCancerQoL_df.to_sql(name=\"F_BreastCancerQoL\", con=conn, if_exists='replace', index=False)\n",
        "\n",
        "# Zur Sicherheit: Alle Tabellennamen aus der Datenbank ziehen...\n",
        "cursor.execute(\"SELECT name FROM sqlite_master WHERE type='table';\")\n",
        "tablelist = cursor.fetchall()\n",
        "\n",
        "# ...und die Tabellennamen ausgeben\n",
        "if tablelist == []:\n",
        "    print(\"In der Data Warehouse Datenbank sind keine Tabellen vorhanden. Sie können mit der Ausführung des Skriptes fortfahren.\")\n",
        "else:\n",
        "    print(\"Folgende Tabellen sind in der Datenbank vorhanden: \")\n",
        "    print(tablelist)\n",
        "\n",
        "# Testen, ob die gehashten Werte in der DB stehen\n",
        "cursor.execute(\"SELECT ID from d_PrimaryTumor;\")\n",
        "hashtest_primary_tumor = cursor.fetchall()\n",
        "cursor.execute(\"SELECT Primary_Tumor_ID from F_BreastCancerQoL;\")\n",
        "hashtest_encounters = cursor.fetchall()\n",
        "\n",
        "print(\"\\n\" + \"Hashtabellen von d_PrimaryTumor und F_BreastCancerQoL:\")\n",
        "print(hashtest_primary_tumor)\n",
        "print(hashtest_encounters)\n",
        "\n",
        "# Testen, ob die Übertragung mittels Dictionary funktioniert hat:\n",
        "amount_ids = 0\n",
        "for primary_tumor_id_total in hashtest_primary_tumor:\n",
        "    if primary_tumor_id_total in hashtest_encounters:\n",
        "        amount_ids = amount_ids + 1\n",
        "\n",
        "# Erhält man als Ergebnis 5, so sollte der Vorgang funktioniert haben\n",
        "if amount_ids == 5:\n",
        "    print(\"\\n\" + \"Die ID aller 5 Primary_Tumor_IDs in der Tabelle d_PrimaryTumor wurde gehasht.\")\n",
        "\n",
        "# Final überprüfen, ob vor und nach dem Hashvorgang die gleiche Anzahl an Ids in der Tabelle F_BreastCancerQoL stehen:\n",
        "cursor.execute(\"SELECT 'Primary_Tumor_ID' FROM F_BreastCancerQoL;\")\n",
        "after_hash_primary_tumor_F_BreastCancerQoL = cursor.fetchall()\n",
        "after_hash_primary_tumor_F_BreastCancerQoL = len(after_hash_primary_tumor_F_BreastCancerQoL)\n",
        "\n",
        "if before_hash_primary_tumor_F_BreastCancerQoL == after_hash_primary_tumor_F_BreastCancerQoL:\n",
        "    print(\"Alle Primary_Tumor_IDs in der Tabelle F_BreastCancerQoL wurden erfolgreich gehasht.\")\n",
        "else:\n",
        "    print(\"Es wurden nicht alle Primary_Tumor_IDs in der F_BreastCancerQoL gehasht.\")\n"
      ],
      "metadata": {
        "id": "N02mHEIzFmj2",
        "outputId": "966d784d-5aaf-4b16-9475-474f74571496",
        "colab": {
          "base_uri": "https://localhost:8080/"
        }
      },
      "execution_count": 137,
      "outputs": [
        {
          "output_type": "stream",
          "name": "stdout",
          "text": [
            "Anzahl der Primary_Tumor_IDs (muss 11 sein): 5\n",
            "Checksumme d_PrimaryTumor:  842637750972571563\n",
            "Die Überprüfung der pseudonymisierten Daten in d_PrimaryTumor per Checksumme war erfolgreich.\n",
            "\n",
            "Checksumme F_BreastCancerQoL:  -2919313348045796859\n",
            "Die Überprüfung der pseudonymisierten Daten in F_BreastCancerQoL per Checksumme war nicht erfolgreich.\n",
            "\n",
            "Folgende Tabellen sind in der Datenbank vorhanden: \n",
            "[('d_Agegroups',), ('d_Medications',), ('d_Cancertherapy',), ('d_Comorbidity',), ('d_Patients',), ('d_PrimaryTumor',), ('F_BreastCancerQoL',)]\n",
            "\n",
            "Hashtabellen von d_PrimaryTumor und F_BreastCancerQoL:\n",
            "[('9857e30fb700043fc6a3f65be4baeb7b681f0be13bff5cec3003c0fe663c29b5',), ('677a07fdb8d04c870a030f672f253e0936f7b7a20d9c99b1a3e3f5292db55fdc',), ('8e5009a41674917b58940452363388780581464d4cd3b31a7a349e1d971f0bd4',), ('77c45d1de4f3f797acb847c5b5ee3b50b6b76f07b8af678ca2f8014032ef44df',), ('0bd0e762c19c8d362b0a3ae060c666fabdd0953beef23477a448b6b326703879',)]\n",
            "[(None,), ('0bd0e762c19c8d362b0a3ae060c666fabdd0953beef23477a448b6b326703879',), ('0bd0e762c19c8d362b0a3ae060c666fabdd0953beef23477a448b6b326703879',), ('0bd0e762c19c8d362b0a3ae060c666fabdd0953beef23477a448b6b326703879',), ('0bd0e762c19c8d362b0a3ae060c666fabdd0953beef23477a448b6b326703879',), ('0bd0e762c19c8d362b0a3ae060c666fabdd0953beef23477a448b6b326703879',), ('9857e30fb700043fc6a3f65be4baeb7b681f0be13bff5cec3003c0fe663c29b5',), ('9857e30fb700043fc6a3f65be4baeb7b681f0be13bff5cec3003c0fe663c29b5',), (None,), (None,), ('677a07fdb8d04c870a030f672f253e0936f7b7a20d9c99b1a3e3f5292db55fdc',), ('677a07fdb8d04c870a030f672f253e0936f7b7a20d9c99b1a3e3f5292db55fdc',), ('677a07fdb8d04c870a030f672f253e0936f7b7a20d9c99b1a3e3f5292db55fdc',), (None,), (None,), ('77c45d1de4f3f797acb847c5b5ee3b50b6b76f07b8af678ca2f8014032ef44df',), ('77c45d1de4f3f797acb847c5b5ee3b50b6b76f07b8af678ca2f8014032ef44df',), (None,), ('8e5009a41674917b58940452363388780581464d4cd3b31a7a349e1d971f0bd4',), (None,)]\n",
            "\n",
            "Die ID aller 5 Primary_Tumor_IDs in der Tabelle d_PrimaryTumor wurde gehasht.\n",
            "Alle Primary_Tumor_IDs in der Tabelle F_BreastCancerQoL wurden erfolgreich gehasht.\n"
          ]
        }
      ]
    },
    {
      "cell_type": "markdown",
      "source": [
        "\n",
        "# **Commit der Änderungen und Schließen der Datenbankverbindung:**\n",
        "\n",
        "Die durchgeführten Änderungen werden in der Datenbank bestätigt, und die Verbindung wird geschlossen."
      ],
      "metadata": {
        "id": "q84fjt3cWz4v"
      }
    },
    {
      "cell_type": "code",
      "source": [
        "conn.commit()\n",
        "conn.close()"
      ],
      "metadata": {
        "id": "fZpvM1AxIfXX"
      },
      "execution_count": 138,
      "outputs": []
    },
    {
      "cell_type": "markdown",
      "source": [
        "# **Abschluss und Nutzung der Data Warehouse-Datenbank:**\n",
        "\n",
        "\n",
        "---\n",
        "\n",
        "\n",
        "\n",
        "Nach erfolgreicher Ausführung dieses Colab-Notebooks befindet sich die erstellte Data Warehouse-Datenbank (`TeamB_Warehouse.db`) auf deinem Google Drive. Diese Datenbank bietet eine optimierte Struktur umfassende Analysen des bereitgestellten Synthea Breast Cancer-Datensatzes gemäß des [*Statistical Analysis Plans*](https://github.com/Fuenfgeld/DMA2024TeamB/wiki/Statistischer-Analyse-Plan). Die erstellten Tabellen enthalten aggregierte und transformierte Informationen, die besonders für komplexe Abfragen geeignet sind. Die Data Warehouse-Datenbank bietet somit eine solide Grundlage für weiterführende Analysen und Forschungsprojekte.\n"
      ],
      "metadata": {
        "id": "ptYpg5F2LrX7"
      }
    }
  ]
}