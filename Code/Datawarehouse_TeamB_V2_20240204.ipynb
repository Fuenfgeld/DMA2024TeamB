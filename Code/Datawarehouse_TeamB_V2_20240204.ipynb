{
  "nbformat": 4,
  "nbformat_minor": 0,
  "metadata": {
    "colab": {
      "provenance": [],
      "authorship_tag": "ABX9TyP9GpIDt8wByxSlbxytnbZs",
      "include_colab_link": true
    },
    "kernelspec": {
      "name": "python3",
      "display_name": "Python 3"
    },
    "language_info": {
      "name": "python"
    }
  },
  "cells": [
    {
      "cell_type": "markdown",
      "metadata": {
        "id": "view-in-github",
        "colab_type": "text"
      },
      "source": [
        "<a href=\"https://colab.research.google.com/github/Fuenfgeld/DMA2024TeamB/blob/main/Code/Datawarehouse_TeamB_V2_20240204.ipynb\" target=\"_parent\"><img src=\"https://colab.research.google.com/assets/colab-badge.svg\" alt=\"Open In Colab\"/></a>"
      ]
    },
    {
      "cell_type": "markdown",
      "source": [
        "# **Data Warehouse-Einrichtung für das Team B-Projekt**\n",
        "\n",
        "\n",
        "---\n",
        "\n",
        "\n",
        "## Projektinformationen:\n",
        "- **Projektgruppe:** DMA2024TeamB\n",
        "- **GitHub Repository:** [DMA2024TeamB Repository](https://github.com/Fuenfgeld/DMA2024TeamB)\n",
        "\n",
        "## Vorbereitung:\n",
        "1. **CSV-Quelldaten auf Google Drive laden:**\n",
        "   - Lade die erforderlichen CSV-Dateien auf dein Google Drive hoch.\n",
        "\n",
        "   - Verwende die folgenden Datein und behalte die Dateinamen bei:\n",
        "    - [`patients.csv`](https://github.com/Fuenfgeld/DMA2024TeamB/blob/main/Daten/Quellendaten/patients.csv)\n",
        "     - [`medications.csv`](https://github.com/Fuenfgeld/DMA2024TeamB/blob/main/Daten/Quellendaten/medications.csv)\n",
        "     - [`conditions.csv`](https://github.com/Fuenfgeld/DMA2024TeamB/blob/main/Daten/Quellendaten/conditions.csv)\n",
        "     - [`observations.csv`](https://github.com/Fuenfgeld/DMA2024TeamB/blob/main/Daten/Quellendaten/observations.csv)\n",
        "     - [`encounters.csv`](https://github.com/Fuenfgeld/DMA2024TeamB/blob/main/Daten/Quellendaten/encounters.csv)\n",
        "\n",
        "2. **Leere SQL-Datenbank erstellen:**\n",
        "   - Lade eine leere SQLite-Datenbank mit dem Namen:TeamB_Warehouse.db auf Google Drive hoch\n",
        "   \n",
        "  - Verwende folgende Datei und behalte den Dateinamen bei:\n",
        "    - [`TeamB_Warehouse.db`](https://github.com/Fuenfgeld/DMA2024TeamB/blob/main/Daten/SQL/TeamB_Warehouse.db)\n",
        "   \n",
        "\n",
        "## Durchführung der Data Warehouse-Einrichtung:\n",
        "- Dieses Colab-Notebook ermöglicht die Erstellung einer Data Warehouse-Datenbank (DWH-Datenbank) aus den bereitgestellten CSV-Quelldaten. Die erstellte Datenbank dient als Quell-Datenbank für Analysen.\n",
        "\n",
        "## Schritte im Überblick:\n",
        "1. Importiere erforderliche Bibliotheken und erstelle eine Verbindung zur SQLite-Datenbank.\n",
        "2. Lade die CSV-Quelldaten von Google Drive in Pandas DataFrames.\n",
        "3. Erstelle Tabellen in der SQLite-Datenbank und lade die CSV-Daten in diese Tabellen.\n",
        "4. Führe SQL-Befehle aus, um die Data Warehouse-Zieltablellen zu erstellen und zu befüllen.\n",
        "\n",
        "## Ausführung:\n",
        "- Führe die Schritte im Colab-Notebook nacheinander aus, um das Data Warehouse für das Team B-Projekt erfolgreich einzurichten.\n",
        "\n",
        "**Hinweis:** Stelle sicher, dass du alle notwendigen Dateien auf Google Drive bereitgestellt und die leere SQLite-Datenbank erstellt hast, bevor du mit der Ausführung des Notebooks beginnst.\n"
      ],
      "metadata": {
        "id": "fJ1QTe_dIH7Y"
      }
    },
    {
      "cell_type": "markdown",
      "source": [
        "# **ETL Prozess**\n",
        "\n",
        "\n",
        "---\n",
        "\n"
      ],
      "metadata": {
        "id": "lDLMSNc1LXnb"
      }
    },
    {
      "cell_type": "markdown",
      "source": [
        "# **Importieren von Bibliotheken:**\n",
        "\n",
        "\n",
        "Die benötigten Bibliotheken, einschließlich pandas und sqlite3, werden importiert."
      ],
      "metadata": {
        "id": "XnlWzf3EFfyZ"
      }
    },
    {
      "cell_type": "code",
      "execution_count": null,
      "metadata": {
        "id": "3NW2nrOgCDMu"
      },
      "outputs": [],
      "source": [
        "import pandas as pd\n",
        "import sqlite3\n",
        "from sqlite3 import Error"
      ]
    },
    {
      "cell_type": "markdown",
      "source": [
        "# **Festlegen der Dateipfade für CSV-Dateien:**\n",
        "\n",
        "Die Pfade zu den CSV-Dateien aus dem Synthea Datensatz werden definiert.\n",
        "Die Quelldaten sollten vorher auf Google Drive abgelegt werde.\n",
        "\n"
      ],
      "metadata": {
        "id": "PGCB6LAECM5G"
      }
    },
    {
      "cell_type": "code",
      "source": [
        "from google.colab import drive\n",
        "drive.mount('/content/drive')\n",
        "\n"
      ],
      "metadata": {
        "colab": {
          "base_uri": "https://localhost:8080/"
        },
        "id": "-Bw19RRSCXfz",
        "outputId": "ec6d71e8-89c5-476a-f3a7-93abd69b43d4"
      },
      "execution_count": null,
      "outputs": [
        {
          "output_type": "stream",
          "name": "stdout",
          "text": [
            "Drive already mounted at /content/drive; to attempt to forcibly remount, call drive.mount(\"/content/drive\", force_remount=True).\n"
          ]
        }
      ]
    },
    {
      "cell_type": "code",
      "source": [
        "patients_csv = '/content/drive/MyDrive/patients.csv'\n",
        "medications_csv = '/content/drive/MyDrive/medications.csv'\n",
        "conditions_csv = '/content/drive/MyDrive/conditions.csv'\n",
        "observations_csv = '/content/drive/MyDrive/observations.csv'\n",
        "encounters_csv = '/content/drive/MyDrive/encounters.csv'"
      ],
      "metadata": {
        "id": "ayHo77i7I803"
      },
      "execution_count": null,
      "outputs": []
    },
    {
      "cell_type": "markdown",
      "source": [
        "# **Erstellen einer SQLite-Datenbankverbindung:**\n",
        "\n",
        "Eine Verbindung zur SQLite-Datenbank wird hergestellt."
      ],
      "metadata": {
        "id": "kRRsZkG-Wk_Q"
      }
    },
    {
      "cell_type": "code",
      "source": [
        "db_path = '/content/drive/MyDrive/TeamB_Warehouse.db'\n",
        "conn = sqlite3.connect(db_path)\n",
        "\n"
      ],
      "metadata": {
        "id": "C8IWWWtlGoKz"
      },
      "execution_count": null,
      "outputs": []
    },
    {
      "cell_type": "markdown",
      "source": [
        "# **Einlesen der CSV-Dateien in Pandas DataFrames:**\n",
        "\n",
        "Die Daten aus den CSV-Dateien werden in Pandas DataFrames geladen."
      ],
      "metadata": {
        "id": "-K8ng2mFWqjT"
      }
    },
    {
      "cell_type": "code",
      "source": [
        "patients_df = pd.read_csv(patients_csv)\n",
        "medications_df = pd.read_csv(medications_csv)\n",
        "conditions_df = pd.read_csv(conditions_csv)\n",
        "observations_df = pd.read_csv(observations_csv)\n",
        "encounters_df = pd.read_csv(encounters_csv)\n",
        "\n"
      ],
      "metadata": {
        "id": "X2_TP1KyIal1"
      },
      "execution_count": null,
      "outputs": []
    },
    {
      "cell_type": "markdown",
      "source": [
        "# **Erstellen von Tabellen in der SQLite-Datenbank:**\n",
        "\n",
        "Die Tabellen *patients*, *medications*, *conditions*, *observations* und *encounters* werden als separate Tabellen in der SQLite-Datenbank erstellt."
      ],
      "metadata": {
        "id": "RbUt6XmnWteN"
      }
    },
    {
      "cell_type": "code",
      "source": [
        "patients_df.to_sql('patients', conn, index=False, if_exists='replace')\n",
        "medications_df.to_sql('medications', conn, index=False, if_exists='replace')\n",
        "conditions_df.to_sql('conditions', conn, index=False, if_exists='replace')\n",
        "observations_df.to_sql('observations', conn, index=False, if_exists='replace')\n",
        "encounters_df.to_sql('encounters', conn, index=False, if_exists='replace')\n",
        "\n"
      ],
      "metadata": {
        "colab": {
          "base_uri": "https://localhost:8080/"
        },
        "id": "yM-I7_bIIcn2",
        "outputId": "8c301328-22c1-4336-e404-d024cdd77165"
      },
      "execution_count": null,
      "outputs": [
        {
          "output_type": "execute_result",
          "data": {
            "text/plain": [
              "8603"
            ]
          },
          "metadata": {},
          "execution_count": 14
        }
      ]
    },
    {
      "cell_type": "markdown",
      "source": [
        "# **Ausführen von SQL-Befehlen zum Erstellen und Befüllen der Zieltabelle:**\n",
        "\n",
        "SQL-Befehle werden verwendet, um eine leere F_BreastCancerQoL-Fakten-Tabelle zu erstellen.\n",
        "Temporäre Tabellen werden erstellt, um bestimmte Informationen zu extrahieren.\n",
        "Diverse Dimensionstabellen (d_Patients, d_Agegroups, d_Medications, d_Cancertherapy, d_Comorbidity, d_PrimaryTumor) werden erstellt.\n",
        "Die F_BreastCancerQoL-Tabelle wird mit den relevanten Informationen aus den temporären und dimensionalen Tabellen gefüllt.\n",
        "\n",
        "\n",
        "Im letzten Schritt werden temporäre Tabellen und nicht mehr benötigte Originaltabellen  gelöscht."
      ],
      "metadata": {
        "id": "fwUsW6LfWwRI"
      }
    },
    {
      "cell_type": "code",
      "source": [
        "sql_commands = \"\"\"\n",
        "-- Leere FACT-Tabelle erstellen\n",
        "DROP TABLE IF EXISTS F_BreastCancerQoL;\n",
        "\n",
        "CREATE TABLE F_BreastCancerQoL (\n",
        "  PatientId UUID,\n",
        "  Age_group_diagnosis_ID Integer,\n",
        "  Primary_Tumor_ID String,\n",
        "  Comorbidity_ID String,\n",
        "  Comorbidity_YesNo Integer,\n",
        "  Ethnicity String,\n",
        "  Gender String,\n",
        "  Cancertherapy_ID String,\n",
        "  Chemotherapy_YesNo Integer,\n",
        "  Targetedtherapy_YesNo Integer,\n",
        "  Medication_ID String,\n",
        "  Medication_YesNo Integer,\n",
        "  QoL_Value_first Integer,\n",
        "  QoL_Value_last Integer\n",
        ");\n",
        "\n",
        "-- Temporäre Tabelle mit MedicationID (=Medication.Code) erstellen (ohne Krebstherapie):\n",
        "DROP TABLE IF EXISTS temp_patients_medicationID;\n",
        "\n",
        "CREATE TABLE temp_patients_medicationID AS\n",
        "SELECT DISTINCT p.id, m.code\n",
        "FROM patients p\n",
        "JOIN medications m ON p.id = m.patient\n",
        "JOIN conditions c ON p.id = c.patient\n",
        "WHERE m.reasoncode != '254837009' AND c.code = '254837009';\n",
        "\n",
        "-- Temporäre Tabelle mit CancertherapieID (= Medication.Code):\n",
        "DROP TABLE IF EXISTS temp_patients_cancertherapyID;\n",
        "\n",
        "CREATE TABLE temp_patients_cancertherapyID AS\n",
        "SELECT DISTINCT p.id, m.code\n",
        "FROM patients p\n",
        "JOIN medications m ON p.id = m.patient\n",
        "JOIN conditions c ON p.id = c.patient\n",
        "WHERE m.reasoncode = '254837009' AND c.code = '254837009';\n",
        "\n",
        "-- Temporäre Tabelle mit PatientID erstellen (Nur Brustkrebspatienten):\n",
        "DROP TABLE IF EXISTS temp_patients;\n",
        "\n",
        "CREATE TABLE temp_patients AS\n",
        "SELECT DISTINCT p.id, p.ethnicity, p.gender\n",
        "FROM patients p\n",
        "JOIN observations o ON p.id = o.patient\n",
        "JOIN conditions c ON p.id = c.patient\n",
        "WHERE c.code = '254837009';\n",
        "\n",
        "-- Temporäre Tabelle mit Comorbidities erstellen (ohne Brustkrebserkrankungen):\n",
        "DROP TABLE IF EXISTS temp_patients_comorbidity;\n",
        "\n",
        "CREATE TABLE temp_patients_comorbidity AS\n",
        "SELECT DISTINCT p.id, c.code\n",
        "FROM conditions c\n",
        "JOIN temp_patients p ON p.id = c.patient\n",
        "WHERE c.code != '254837009';\n",
        "\n",
        "-- Temporäre Tabelle mit erstem QoL Wert erstellen\n",
        "DROP TABLE IF EXISTS temp_qol_value_first;\n",
        "\n",
        "CREATE TABLE temp_qol_value_first AS\n",
        "SELECT o.value AS qol_value_first, c.patient, MIN(o.date) AS earliest_date\n",
        "FROM observations o\n",
        "JOIN conditions c ON o.PATIENT = c.patient\n",
        "WHERE o.code = 'QOLS' AND c.code = '254837009'\n",
        "GROUP BY c.patient\n",
        "ORDER BY c.patient;\n",
        "\n",
        "-- Temporäre Tabelle mit letztem QoL Wert erstellen:\n",
        "DROP TABLE IF EXISTS temp_qol_value_last;\n",
        "\n",
        "CREATE TABLE temp_qol_value_last AS\n",
        "SELECT o.value AS qol_value_last, c.patient, MAX(o.date) AS latest_date\n",
        "FROM observations o\n",
        "JOIN conditions c ON o.PATIENT = c.patient\n",
        "WHERE o.code = 'QOLS' AND c.code = '254837009'\n",
        "GROUP BY c.patient\n",
        "ORDER BY c.patient;\n",
        "\n",
        "-- d_Patients Tabelle erstellen:\n",
        "DROP TABLE IF EXISTS d_Patients;\n",
        "\n",
        "CREATE TABLE d_Patients AS\n",
        "SELECT\n",
        "  p.id AS Id,\n",
        "  STRFTIME('%Y', 'now') - STRFTIME('%Y', p.birthdate) - (STRFTIME('%m-%d', 'now') < STRFTIME('%m-%d', p.birthdate)) AS AGE_Studyinclusion,\n",
        "  STRFTIME('%Y', c.START) - STRFTIME('%Y', p.birthdate) - (STRFTIME('%m-%d', c.START) < STRFTIME('%m-%d', p.birthdate)) AS AGE_diagnosis,\n",
        "  p.marital AS Maritalstatus\n",
        "FROM\n",
        "  patients p\n",
        "JOIN conditions c ON p.id = c.patient\n",
        "WHERE c.code = '254837009';\n",
        "\n",
        "-- d_Agegroups Tabelle erstellen:\n",
        "DROP TABLE IF EXISTS d_Agegroups;\n",
        "\n",
        "CREATE TABLE d_Agegroups (\n",
        "  ID Integer [primary key],\n",
        "  Age_group String [not null],\n",
        "  Min_Age Integer [not null],\n",
        "  Max_Age Integer [not null]\n",
        ");\n",
        "\n",
        "INSERT INTO d_Agegroups VALUES\n",
        "(1, '<50', 0, 49),\n",
        "(2, '>=50', 50, 999);\n",
        "\n",
        "\n",
        "-- d_Medications Tabelle erstellen:\n",
        "DROP TABLE IF EXISTS d_Medications;\n",
        "\n",
        "CREATE TABLE d_Medications AS\n",
        "SELECT DISTINCT\n",
        "  code AS ID,\n",
        "  CASE\n",
        "    WHEN Description LIKE '%Clopidogrel%' THEN 'Clopidogrel'\n",
        "    WHEN Description LIKE '%Simvastatin%' THEN 'Simvastatin'\n",
        "    WHEN Description LIKE '%Amlodipine%' THEN 'Amlodipine'\n",
        "    WHEN Description LIKE '%Nitroglycerin%' THEN 'Nitroglycerin'\n",
        "    WHEN Description LIKE '%Warfarin%' THEN 'Warfarin'\n",
        "    WHEN Description LIKE '%Verapamil%' THEN 'Verapamil'\n",
        "    WHEN Description LIKE '%Digoxin%' THEN 'Digoxin'\n",
        "    WHEN Description LIKE '%Epinephrine%' THEN 'Epinephrine'\n",
        "    WHEN Description LIKE '%Amiodarone%' THEN 'Amiodarone'\n",
        "    WHEN Description LIKE '%Alteplase%' THEN 'Alteplase'\n",
        "    WHEN Description LIKE '%Atropine%' THEN 'Atropine'\n",
        "    WHEN Description LIKE '%Atorvastatin%' THEN 'Atorvastatin'\n",
        "    WHEN Description LIKE '%Captopril%' THEN 'Captopril'\n",
        "  END AS Description\n",
        "FROM medications\n",
        "WHERE Description LIKE '%Clopidogrel%'\n",
        "   OR Description LIKE '%Simvastatin%'\n",
        "   OR Description LIKE '%Amlodipine%'\n",
        "   OR Description LIKE '%Nitroglycerin%'\n",
        "   OR Description LIKE '%Warfarin%'\n",
        "   OR Description LIKE '%Verapamil%'\n",
        "   OR Description LIKE '%Digoxin%'\n",
        "   OR Description LIKE '%Epinephrine%'\n",
        "   OR Description LIKE '%Amiodarone%'\n",
        "   OR Description LIKE '%Alteplase%'\n",
        "   OR Description LIKE '%Atropine%'\n",
        "   OR Description LIKE '%Atorvastatin%'\n",
        "   OR Description LIKE '%Captopril%';\n",
        "\n",
        "-- d_Cancertherapy Tabelle erstellen:\n",
        "DROP TABLE IF EXISTS d_Cancertherapy;\n",
        "\n",
        "CREATE TABLE d_Cancertherapy AS\n",
        "SELECT DISTINCT\n",
        "  code AS ID,\n",
        "  CASE\n",
        "    WHEN Description LIKE '%Anastrozole%' THEN 'Anastrozole (AI)'\n",
        "    WHEN Description LIKE '%Trastuzumab%' THEN 'Trastuzumab (anti-HER2 antibody)'\n",
        "    WHEN Description LIKE '%Palbociclib%' THEN 'Palbociclib (CDK4/6 inhibitor)'\n",
        "    WHEN Description LIKE '%Tamoxifen%' THEN 'Tamoxifen (SERM)'\n",
        "    WHEN Description LIKE '%Verzenio%' THEN 'Abemaciclib (CDK4/6 inhibitor)'\n",
        "    WHEN Description LIKE '%Epirubicin%' THEN 'Epirubicin'\n",
        "    WHEN Description LIKE '%Cyclophosphamide%' THEN 'Cyclophosphamide'\n",
        "    WHEN Description LIKE '%Paclitaxel%' THEN 'Paclitaxel'\n",
        "  END AS Description,\n",
        "  CASE\n",
        "    WHEN Description LIKE '%Epirubicin%' THEN 1\n",
        "    WHEN Description LIKE '%Cyclophosphamide%' THEN 1\n",
        "    WHEN Description LIKE '%Paclitaxel%' THEN 1\n",
        "    ELSE 0\n",
        "  END AS Chemotherapy,\n",
        "  CASE\n",
        "    WHEN Description LIKE '%Anastrozole%' THEN 1\n",
        "    WHEN Description LIKE '%Trastuzumab%' THEN 1\n",
        "    WHEN Description LIKE '%Palbociclib%' THEN 1\n",
        "    WHEN Description LIKE '%Tamoxifen%' THEN 1\n",
        "    WHEN Description LIKE '%Verzenio%' THEN 1\n",
        "    ELSE 0\n",
        "  END AS TargetedTherapy\n",
        "FROM medications\n",
        "WHERE Description LIKE '%Anastrozole%'\n",
        "   OR Description LIKE '%Trastuzumab%'\n",
        "   OR Description LIKE '%Palbociclib%'\n",
        "   OR Description LIKE '%Tamoxifen%'\n",
        "   OR Description LIKE '%Verzenio%'\n",
        "   OR Description LIKE '%Epirubicin%'\n",
        "   OR Description LIKE '%Cyclophosphamide%'\n",
        "   OR Description LIKE '%Paclitaxel%';\n",
        "\n",
        "--d_Comorbidity erstellen:\n",
        "DROP TABLE IF EXISTS d_Comorbidity;\n",
        "\n",
        "CREATE TABLE d_Comorbidity AS\n",
        "SELECT DISTINCT code AS ID, description AS Description\n",
        "FROM conditions\n",
        "WHERE code != '254837009';\n",
        "\n",
        "--d_PrimaryTumor erstellen:\n",
        "DROP TABLE IF EXISTS d_PrimaryTumor;\n",
        "\n",
        "CREATE TABLE d_PrimaryTumor AS\n",
        "SELECT\n",
        "  o.encounter AS ID,\n",
        "  MAX(CASE WHEN o.code = '85319-2' THEN o.value END) AS HER2_Status,\n",
        "  MAX(CASE WHEN o.code = '10480-2' THEN o.value END) AS HR_Status,\n",
        "  MAX(CASE WHEN o.code = '21908-9' THEN o.value END) AS Stage,\n",
        "  MAX(CASE WHEN o.code = '21906-3' THEN o.value END) AS Nodal_Status,\n",
        "  MAX(CASE WHEN o.code = '21905-5' THEN o.value END) AS T_Status,\n",
        "  MAX(CASE WHEN o.code = '21907-1' THEN o.value END) AS M_Status\n",
        "FROM\n",
        "  observations o\n",
        "WHERE\n",
        "  o.code IN ('85319-2', '10480-2', '21908-9', '21906-3', '21905-5', '21907-1')\n",
        "GROUP BY\n",
        "  o.encounter;\n",
        "\n",
        "-- Temporäre Tabelle mit Primary Tumor ID erstellen (nur wenn Histologische Info vorhanden):\n",
        "DROP TABLE IF EXISTS temp_encounter_primary_tumor;\n",
        "\n",
        "CREATE TABLE temp_encounter_primary_tumor AS\n",
        "SELECT e.patient, pt.id AS primarytumor_ID from encounters e, d_PrimaryTumor pt\n",
        "WHERE e.id = pt.id;\n",
        "\n",
        "-- Fülle F_BreastCancerQoL auf:\n",
        "\n",
        "INSERT INTO F_BreastCancerQoL (PatientId, Age_group_diagnosis_ID, primary_tumor_id, Comorbidity_ID, Comorbidity_YesNo, Ethnicity, Gender, Cancertherapy_ID, Chemotherapy_YesNo, Targetedtherapy_YesNo, Medication_ID, Medication_YesNo, QoL_Value_first, QoL_Value_last)\n",
        "SELECT\n",
        "  p.id AS PatientId,\n",
        "  CASE\n",
        "    WHEN d.Age_diagnosis < 50 THEN 1\n",
        "    WHEN d.age_diagnosis >= 50 THEN 2\n",
        "    ELSE NULL\n",
        "  END AS Age_group_diagnosis_ID,\n",
        "  pt.primarytumor_ID AS primary_tumor_id,\n",
        "  c.code AS Comorbidity_ID,\n",
        "  CASE WHEN c.code IS NOT NULL THEN 1 ELSE 0 END AS Comorbidity_YesNo,\n",
        "  p.ethnicity AS Ethnicity,\n",
        "  p.gender AS Gender,\n",
        "  ct.code AS Cancertherapy_ID,\n",
        "  dct.chemotherapy AS Chemotherapy_YesNo,\n",
        "  dct.targetedtherapy AS Targetedtherapy_YesNo,\n",
        "  m.code AS Medication_ID,\n",
        "  CASE WHEN m.code IS NOT NULL THEN 1 ELSE 0 END AS Medication_YesNo,\n",
        "  qvf.qol_value_first AS QoL_Value_first,\n",
        "  qvl.qol_value_last AS QoL_Value_last\n",
        "FROM d_patients d\n",
        "LEFT JOIN temp_patients_comorbidity c ON d.id = c.id\n",
        "LEFT JOIN temp_patients_cancertherapyID ct ON d.id = ct.id\n",
        "LEFT JOIN temp_patients_medicationID m ON d.id = m.id\n",
        "LEFT JOIN temp_qol_value_first qvf ON d.id = qvf.patient\n",
        "LEFT JOIN temp_qol_value_last qvl ON d.id = qvl.patient\n",
        "LEFT JOIN temp_patients p ON d.id = p.id\n",
        "LEFT JOIN d_Cancertherapy dct ON ct.code = dct.ID\n",
        "LEFT JOIN temp_encounter_primary_tumor pt ON p.id = pt.patient;\n",
        "\n",
        "-- Drop temp tables\n",
        "\n",
        "DROP TABLE IF EXISTS temp_patients;\n",
        "DROP TABLE IF EXISTS temp_patients_cancertherapyID;\n",
        "DROP TABLE IF EXISTS temp_patients_medicationID;\n",
        "DROP TABLE IF EXISTS temp_patients_comorbidity;\n",
        "DROP TABLE IF EXISTS temp_qol_value_first;\n",
        "DROP TABLE IF EXISTS temp_qol_value_last;\n",
        "DROP TABLE IF EXISTS temp_encounter_primary_tumor;\n",
        "\n",
        "-- Drop other tables\n",
        "\n",
        "DROP TABLE IF EXISTS medications;\n",
        "DROP TABLE IF EXISTS conditions;\n",
        "DROP TABLE IF EXISTS observations;\n",
        "DROP TABLE IF EXISTS careplans;\n",
        "DROP TABLE IF EXISTS conditions;\n",
        "DROP TABLE IF EXISTS devices;\n",
        "DROP TABLE IF EXISTS disease;\n",
        "DROP TABLE IF EXISTS encounters;\n",
        "DROP TABLE IF EXISTS imaging_studies;\n",
        "DROP TABLE IF EXISTS immunizations;\n",
        "DROP TABLE IF EXISTS patients;\n",
        "DROP TABLE IF EXISTS procedures;\n",
        "\"\"\"\n",
        "conn.executescript(sql_commands)\n",
        "\n"
      ],
      "metadata": {
        "colab": {
          "base_uri": "https://localhost:8080/"
        },
        "id": "RSXEBWahId9q",
        "outputId": "624a14aa-d7fe-4731-aacd-6493443626bc"
      },
      "execution_count": null,
      "outputs": [
        {
          "output_type": "execute_result",
          "data": {
            "text/plain": [
              "<sqlite3.Cursor at 0x78b2dbcfa940>"
            ]
          },
          "metadata": {},
          "execution_count": 16
        }
      ]
    },
    {
      "cell_type": "markdown",
      "source": [
        "\n",
        "# **Commit der Änderungen und Schließen der Datenbankverbindung:**\n",
        "\n",
        "Die durchgeführten Änderungen werden in der Datenbank bestätigt, und die Verbindung wird geschlossen."
      ],
      "metadata": {
        "id": "q84fjt3cWz4v"
      }
    },
    {
      "cell_type": "code",
      "source": [
        "conn.commit()\n",
        "conn.close()"
      ],
      "metadata": {
        "id": "fZpvM1AxIfXX"
      },
      "execution_count": null,
      "outputs": []
    },
    {
      "cell_type": "markdown",
      "source": [
        "# **Abschluss und Nutzung der Data Warehouse-Datenbank:**\n",
        "\n",
        "\n",
        "---\n",
        "\n",
        "\n",
        "\n",
        "Nach erfolgreicher Ausführung dieses Colab-Notebooks befindet sich die erstellte Data Warehouse-Datenbank (`TeamB_Warehouse.db`) auf deinem Google Drive. Diese Datenbank bietet eine optimierte Struktur umfassende Analysen des bereitgestellten Synthea Breast Cancer-Datensatzes gemäß des [*Statistical Analysis Plans*](https://github.com/Fuenfgeld/DMA2024TeamB/wiki/Statistischer-Analyse-Plan). Die erstellten Tabellen enthalten aggregierte und transformierte Informationen, die besonders für komplexe Abfragen geeignet sind. Die Data Warehouse-Datenbank bietet somit eine solide Grundlage für weiterführende Analysen und Forschungsprojekte.\n"
      ],
      "metadata": {
        "id": "ptYpg5F2LrX7"
      }
    }
  ]
}