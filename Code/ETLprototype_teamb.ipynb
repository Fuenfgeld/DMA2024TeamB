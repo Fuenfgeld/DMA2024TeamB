{
  "cells": [
    {
      "cell_type": "markdown",
      "metadata": {
        "id": "rDF6jnIrk5L8"
      },
      "source": [
        "# **Objective**: Create a Datawarehouse and transform data from source database to datawarehouse db\n",
        "\n"
      ]
    },
    {
      "cell_type": "markdown",
      "metadata": {
        "id": "aFINDtv7IOsW"
      },
      "source": [
        "# Importing libraries"
      ]
    },
    {
      "cell_type": "code",
      "execution_count": 1,
      "metadata": {
        "id": "PAtASFg0NjWe"
      },
      "outputs": [],
      "source": [
        "import sqlite3\n",
        "from sqlite3 import Error"
      ]
    },
    {
      "cell_type": "code",
      "execution_count": 6,
      "metadata": {
        "colab": {
          "base_uri": "https://localhost:8080/"
        },
        "id": "f5SVaUDA3QRc",
        "outputId": "3a1965df-3b22-49ff-f9da-d6bdfa0878c7"
      },
      "outputs": [
        {
          "name": "stdout",
          "output_type": "stream",
          "text": [
            "Mounted at /content/drive/\n"
          ]
        }
      ],
      "source": [
        "#from google.colab import drive\n",
        "# mount drive to access database\n",
        "#drive.mount(\"/content/drive\")\n",
        "\n",
        "from google.colab import drive\n",
        "drive.mount('/content/drive/')"
      ]
    },
    {
      "cell_type": "markdown",
      "metadata": {
        "id": "hO-KOV0IITRx"
      },
      "source": [
        "# Path of input/output data\n"
      ]
    },
    {
      "cell_type": "code",
      "execution_count": 7,
      "metadata": {
        "id": "cbN89u5p-vgO"
      },
      "outputs": [],
      "source": [
        "material_path = \"/content/drive/MyDrive/WS2324_Kurs5\""
      ]
    },
    {
      "cell_type": "markdown",
      "metadata": {
        "id": "ZbvVje0BJCTf"
      },
      "source": [
        "Uncomment one type of patient that you would like to create for it datawarehouse database and  transfer tables from source db to it."
      ]
    },
    {
      "cell_type": "code",
      "execution_count": 8,
      "metadata": {
        "id": "uzL1jGs-751J"
      },
      "outputs": [],
      "source": [
        "## type of patients\n",
        "#patient_type = \"allergy\"\n",
        "#patient_type = \"asthma\"\n",
        "patient_type = \"breast_cancer\"\n",
        "#patient_type = \"metabolic_syndrome_disease\"\n",
        "#patient_type = \"colorectal_cancer\"\n",
        "#patient_type = \"covid19\"\n",
        "#patient_type = \"dermatitis\"\n",
        "#patient_type = \"lung_cancer\""
      ]
    },
    {
      "cell_type": "code",
      "execution_count": 9,
      "metadata": {
        "colab": {
          "base_uri": "https://localhost:8080/",
          "height": 35
        },
        "id": "iik2EG7sTkl3",
        "outputId": "ffb2bd64-8d68-41ab-b1fb-5f3d7eab24ea"
      },
      "outputs": [
        {
          "data": {
            "application/vnd.google.colaboratory.intrinsic+json": {
              "type": "string"
            },
            "text/plain": [
              "'/content/drive/MyDrive/source_dbs/source_breast_cancer_test.db'"
            ]
          },
          "execution_count": 9,
          "metadata": {},
          "output_type": "execute_result"
        }
      ],
      "source": [
        "# path of source database\n",
        "DB_SOURCE_PATH = f\"/content/drive/MyDrive/source_dbs/source_breast_cancer_test.db\"\n",
        "DB_SOURCE_PATH"
      ]
    },
    {
      "cell_type": "code",
      "execution_count": 10,
      "metadata": {
        "id": "w4oN9QgLI7Cc"
      },
      "outputs": [],
      "source": [
        "# path of datawarehouse\n",
        "DB_DWH_PATH = f\"/content/drive/MyDrive/source_dbs/gruppeb_test.db\"\n"
      ]
    },
    {
      "cell_type": "markdown",
      "metadata": {
        "id": "X_WekES-IlMO"
      },
      "source": [
        "# Create Datawarehouse"
      ]
    },
    {
      "cell_type": "code",
      "execution_count": null,
      "metadata": {
        "id": "2SL03VkYnodn"
      },
      "outputs": [],
      "source": [
        "\n",
        "class DB(object):\n",
        "  def __init__(self, db_file):\n",
        "    self.conn = sqlite3.connect(db_file)\n",
        "    self.cur = self.conn.cursor()\n",
        "    self.__init_db()\n",
        "\n",
        "  def __del__(self):\n",
        "      self.conn.commit()\n",
        "      self.conn.close()\n",
        "\n",
        "  def __init_db(self):\n",
        "    # sql queries to create tables in Datawarehouse\n",
        "\n",
        "    #  sql query to create patients_info table\n",
        "    create_patients_info = \"\"\"CREATE TABLE IF NOT EXISTS patients_info (\n",
        "                           Id STRING PRIMARY KEY,\n",
        "                           BIRTHDATE DATE,\n",
        "                           DEATHDATE DATE,\n",
        "                           SSN STRING,\n",
        "                           DRIVERS STRING,\n",
        "                           PASSPORT STRING,\n",
        "                           PREFIX STRING,\n",
        "                           FIRST STRING,\n",
        "                           LAST STRING,\n",
        "                           SUFFIX STRING,\n",
        "                           MAIDEN STRING,\n",
        "                           MARITAL STRING,\n",
        "                           RACE STRING,\n",
        "                           ETHNICITY STRING,\n",
        "                           GENDER STRING,\n",
        "                           BIRTHPLACE STRING,\n",
        "                           ADDRESS STRING,\n",
        "                           CITY STRING,\n",
        "                           STATE STRING,\n",
        "                           COUNTRY STRING,\n",
        "                           ZIP STRING,\n",
        "                           LAT INTEGER,\n",
        "                           LON INTEGER,\n",
        "                           HEALTHCARE_EXPENSES INTEGER,\n",
        "                           HEALTHCARE_COVERAGE INTEGER\n",
        "                       );\"\"\"\n",
        "\n",
        "    #  sql query to create disease table\n",
        "    create_disease_info = \"\"\"CREATE TABLE IF NOT EXISTS disease_info (\n",
        "                           START DATE,\n",
        "                           STOP DATE,\n",
        "                           PATIENT STRING,\n",
        "                           ENCOUNTER STRING,\n",
        "                           CODE STRING,\n",
        "                           DESCRIPTION STRING,\n",
        "                           FOREIGN KEY (PATIENT)\n",
        "                              REFERENCES patients_info (Id)\n",
        "                           FOREIGN KEY (Encounter)\n",
        "                              REFERENCES encounters (Id)\n",
        "\n",
        "                       );\"\"\"\n",
        "\n",
        "\n",
        "    # sql query to create condition table\n",
        "    create_conditions_info = \"\"\"CREATE TABLE IF NOT EXISTS conditions_info (\n",
        "                           START DATE,\n",
        "                           STOP DATE,\n",
        "                           PATIENT STRING,\n",
        "                           ENCOUNTER STRING,\n",
        "                           CODE STRING,\n",
        "                           DESCRIPTION STRING,\n",
        "                           FOREIGN KEY (PATIENT)\n",
        "                              REFERENCES patients_info (Id)\n",
        "                           FOREIGN KEY (Encounter)\n",
        "                              REFERENCES encounters (Id)\n",
        "\n",
        "                       );\"\"\"\n",
        "\n",
        "    # sql query to create careplans table\n",
        "    create_careplans_info = \"\"\"CREATE TABLE IF NOT EXISTS careplans_info (\n",
        "                           Id STRING PRIMARY KEY,\n",
        "                           START DATE,\n",
        "                           STOP DATE,\n",
        "                           PATIENT STRING,\n",
        "                           ENCOUNTER STRING,\n",
        "                           CODE STRING,\n",
        "                           DESCRIPTION STRING,\n",
        "                           REASONCODE STRING,\n",
        "                           REASONDESCRIPTION STRING,\n",
        "                           FOREIGN KEY (PATIENT)\n",
        "                              REFERENCES patients_info (Id)\n",
        "                           FOREIGN KEY (Encounter)\n",
        "                              REFERENCES encounters (Id)\n",
        "\n",
        "                       );\"\"\"\n",
        "\n",
        "    # sql query to create procedures table\n",
        "    create_procedures_info = \"\"\"CREATE TABLE IF NOT EXISTS procedures_info (\n",
        "                           DATE DATE,\n",
        "                           PATIENT STRING,\n",
        "                           ENCOUNTER STRING,\n",
        "                           CODE STRING,\n",
        "                           DESCRIPTION STRING,\n",
        "                           BASE_COST INTEGER,\n",
        "                           REASONCODE STRING,\n",
        "                           REASONDESCRIPTION STRING,\n",
        "                           FOREIGN KEY (PATIENT)\n",
        "                              REFERENCES patients_info (Id)\n",
        "                       );\"\"\"\n",
        "\n",
        "    # sql query to create medications_info table\n",
        "    create_d_Medication = \"\"\"CREATE TABLE IF NOT EXISTS d_Medication (\n",
        "                           START DATE,\n",
        "                           STOP DATE,\n",
        "                           PATIENT STRING,\n",
        "                           PAYER STRING,\n",
        "                           ENCOUNTER STRING,\n",
        "                           CODE STRING,\n",
        "                           DESCRIPTION STRING,\n",
        "                           BASE_COST INTEGER,\n",
        "                           PAYER_COVERAGE INTEGER,\n",
        "                           DISPENSES INTEGER,\n",
        "                           TOTALCOST INTEGER,\n",
        "                           REASONCODE STRING,\n",
        "                           REASONDESCRIPTION STRING,\n",
        "                           FOREIGN KEY (PATIENT)\n",
        "                              REFERENCES patients_info (Id)\n",
        "\n",
        "                       );\"\"\"\n",
        "\n",
        "    # sql query to create observations table\n",
        "    create_observations_info = \"\"\"CREATE TABLE IF NOT EXISTS observations_info (\n",
        "                           DATE DATE,\n",
        "                           PATIENT STRING,\n",
        "                           ENCOUNTER STRING,\n",
        "                           CODE STRING,\n",
        "                           DESCRIPTION STRING,\n",
        "                           VALUE STRING,\n",
        "                           UNITS STRING,\n",
        "                           TYPE STRING,\n",
        "                           FOREIGN KEY (PATIENT)\n",
        "                              REFERENCES patients_info (Id)\n",
        "                       );\"\"\"\n",
        "\n",
        "\n",
        "\n",
        "\n",
        "\n",
        "\n",
        "    create_tables = [create_patients_info, # demographic data\n",
        "                     create_disease_info, create_conditions_info, # diagnoses data\n",
        "                     create_careplans_info, create_procedures_info, create_medications_info, # procedures data\n",
        "                     create_observations_info # lab values data\n",
        "                     ]\n",
        "\n",
        "\n",
        "    if self.conn is not None:\n",
        "      # self.cur.execute(f\"drop table if exists medications_info\")\n",
        "      for query in create_tables:\n",
        "          self.cur.execute(query)\n",
        "    else:\n",
        "      print('Connection to database failed')\n",
        "\n"
      ]
    },
    {
      "cell_type": "markdown",
      "metadata": {
        "id": "VUIHYzr2IxMl"
      },
      "source": [
        "#ETL/ELT (Extract, transform, load )"
      ]
    },
    {
      "cell_type": "code",
      "execution_count": 12,
      "metadata": {
        "id": "tBMOAjmPReGG"
      },
      "outputs": [],
      "source": [
        "# exporting queries\n",
        "# Die Klasse SQLQuery erstellt ein Objekt, mit dem aus einer Quelltabelle bestimmte Spalten in eine Zieltabelle exportiert werden. \n",
        "class SqlQuery:\n",
        "  def __init__(self, source_table, column_names, sink_table):\n",
        "    self.source_table = source_table\n",
        "    self.column_numbers = len(column_names)\n",
        "    self.column_names = ', '.join(column_names)\n",
        "    self.sink_table = sink_table\n",
        "\n",
        "  def extract_query(self):\n",
        "    return 'SELECT ' + self.column_names + ' FROM ' + self.source_table\n",
        "\n",
        "\n",
        "#Eine Funktion für ein prepared sql statement, das den dynamischen Parameter ? als Platzhalter benutzt, um die gemäß der \n",
        "# Funktion extract_query aus der Quelltabelle extrahierten Daten mittels SQL-Befehl in die neue Tabelle sink_table zu laden. \n",
        "# Je mehr Spalten man \"herüberschieben\" möchte, desto mehr Spaltenplatzhalter braucht man. Dafür ist '?,' * self.column_numbers\". \n",
        "  def load_query(self):\n",
        "    values_str = '?,' * self.column_numbers\n",
        "    # print(\"*****\", values_str, column_names, column_numbers)\n",
        "    values_str = values_str[:-1]\n",
        "    return 'INSERT OR REPLACE INTO ' + self.sink_table + ' VALUES (' + values_str + ')'\n",
        "\n",
        "    # return 'INSERT INTO ' + self.sink_table + '(' + self.column_names + ') VALUES (' + values_str + ')'\n",
        "\n",
        "\n"
      ]
    },
    {
      "cell_type": "code",
      "execution_count": null,
      "metadata": {
        "id": "FtEGoZc_PU5-"
      },
      "outputs": [],
      "source": [
        "#query muss ein Objekt der SQLQuery-Klasse sein. Erst dann können die Funktionen extract_query und load_query angewendet werden. \n",
        "def etl(query, source_cnx, target_cnx):\n",
        "  # extract data from source db\n",
        "  source_cursor = source_cnx.cursor()\n",
        "  source_cursor.execute(query.extract_query())\n",
        "  data = source_cursor.fetchall()\n",
        "  source_cursor.close()\n",
        "\n",
        "  # load data into warehouse db\n",
        "  if data:\n",
        "    target_cursor = target_cnx.cursor()\n",
        "    target_cursor.executemany(query.load_query(), data)\n",
        "    print('data loaded to warehouse db')\n",
        "    target_cnx.commit()\n",
        "    target_cursor.close()\n",
        "  else:\n",
        "    print('data is empty')\n",
        "\n",
        "\n",
        "def etl_process(queries, target_cnx, db_source):\n",
        "  \"\"\"\n",
        "  queries: list\n",
        "        a list of queries\n",
        "  target_cnx: SQLite connection\n",
        "  db_source: str\n",
        "        path of source database\n",
        "\n",
        "  \"\"\"\n",
        "  # establish source db connection\n",
        "  try:\n",
        "    source_cnx = sqlite3.connect(db_source)\n",
        "  except Error as err:\n",
        "    print(err)\n",
        "\n",
        "  # loop through sql queries\n",
        "  # Diese Zeile muss for query in queries: lauten. etl_queue wurde noch nicht erstellt Funktionen nutzen lokale Variablen. \n",
        "  for query in etl_queue:\n",
        "    etl(query, source_cnx, target_cnx)\n",
        "\n",
        "  # close the source db connection\n",
        "  source_cnx.close()"
      ]
    },
    {
      "cell_type": "code",
      "execution_count": 14,
      "metadata": {
        "id": "GB8GrFuLGRWb"
      },
      "outputs": [],
      "source": [
        "# create Datawarehouse\n",
        "# Anhand der ganz oben beschriebenen Klasse DB() wird ein Objekt mit dem Namen dwh_db generiert. Unter dwh_db sind \n",
        "# nun alle leeren _info-Tabellen, die mittels SQL-Befehl erstellt wurden, gespeichert. \n",
        "dwh_db = DB(DB_DWH_PATH)"
      ]
    },
    {
      "cell_type": "code",
      "execution_count": 15,
      "metadata": {
        "colab": {
          "base_uri": "https://localhost:8080/"
        },
        "id": "Lc28YPjOOpb0",
        "outputId": "0e5e91e5-e6ff-4421-c107-94f5f730939e"
      },
      "outputs": [
        {
          "name": "stdout",
          "output_type": "stream",
          "text": [
            "starting etl\n"
          ]
        }
      ],
      "source": [
        "print('starting etl')\n",
        "\n",
        "# list for iteration\n",
        "etl_queue = []\n",
        "\n",
        "# demographic table\n",
        "# Eine Liste von Spaltennamen einer Quelltabelle, welche die SQLQuery-Klasse benötigt.  \n",
        "patients_columns = ['Id', 'BIRTHDATE', 'DEATHDATE', 'SSN', 'DRIVERS', 'PASSPORT', 'PREFIX',\n",
        "                    'FIRST', 'LAST', 'SUFFIX', 'MAIDEN', 'MARITAL', 'RACE', 'ETHNICITY',\n",
        "                    'GENDER', 'BIRTHPLACE', 'ADDRESS', 'CITY', 'STATE', 'COUNTRY', 'ZIP',\n",
        "                    'LAT', 'LON', 'HEALTHCARE_EXPENSES', 'HEALTHCARE_COVERAGE']\n",
        "# Das Objekt sql_query_patients wird erstellt gemäß Schema (source_table, column_names, sink_table), \n",
        "# wie es die SQLQuery-KLasse verlangt\n",
        "sql_query_patients = SqlQuery(\"patients\", patients_columns, \"patients_info\")\n",
        "etl_queue.append(sql_query_patients)\n",
        "\n",
        "# diagnoses tables\n",
        "disease_columns = ['START', 'STOP', 'PATIENT', 'ENCOUNTER', 'CODE', 'DESCRIPTION']\n",
        "sql_query_disease = SqlQuery(\"disease\", disease_columns, \"disease_info\")\n",
        "etl_queue.append(sql_query_disease)\n",
        "\n",
        "conditions_columns = ['START', 'STOP', 'PATIENT', 'ENCOUNTER', 'CODE', 'DESCRIPTION']\n",
        "sql_query_conditions = SqlQuery(\"conditions\", conditions_columns, \"conditions_info\")\n",
        "etl_queue.append(sql_query_conditions)\n",
        "\n",
        "# procedures tables\n",
        "procedures_columns = ['DATE', 'PATIENT', 'ENCOUNTER', 'CODE', 'DESCRIPTION', 'BASE_COST','REASONCODE', 'REASONDESCRIPTION']\n",
        "sql_query_procedures = SqlQuery(\"procedures\", procedures_columns, \"procedures_info\")\n",
        "etl_queue.append(sql_query_procedures)\n",
        "\n",
        "careplans_columns = ['Id', 'START', 'STOP', 'PATIENT', 'ENCOUNTER', 'CODE', 'DESCRIPTION', 'REASONCODE', 'REASONDESCRIPTION']\n",
        "sql_query_careplans = SqlQuery(\"careplans\", careplans_columns, \"careplans_info\")\n",
        "etl_queue.append(sql_query_careplans)\n",
        "\n",
        "medications_columns = ['START', 'STOP', 'PATIENT', 'PAYER', 'ENCOUNTER', 'CODE', 'DESCRIPTION',\n",
        "                       'BASE_COST', 'PAYER_COVERAGE', 'DISPENSES', 'TOTALCOST', 'REASONCODE',\n",
        "                       'REASONDESCRIPTION']\n",
        "sql_query_medications = SqlQuery(\"medications\", medications_columns, \"medications_info\")\n",
        "etl_queue.append(sql_query_medications)\n",
        "\n",
        "# lab values tables\n",
        "observations_columns = ['DATE', 'PATIENT', 'ENCOUNTER', 'CODE', 'DESCRIPTION', 'VALUE', 'UNITS','TYPE']\n",
        "sql_query_observations = SqlQuery(\"observations\", observations_columns, \"observations_info\")\n",
        "etl_queue.append(sql_query_observations)\n",
        "\n",
        "# Die etl_queue ist eine Liste, der alle oben erstellten SQLQuery-Objekte angehängt sind. \n",
        "# list for iteration\n",
        "# etl_queue"
      ]
    },
    {
      "cell_type": "code",
      "execution_count": 16,
      "metadata": {
        "colab": {
          "base_uri": "https://localhost:8080/"
        },
        "id": "nzLfaWkfo3iC",
        "outputId": "7aefe930-5f08-47bd-fa15-32faf02f541d"
      },
      "outputs": [
        {
          "name": "stdout",
          "output_type": "stream",
          "text": [
            "data loaded to warehouse db\n",
            "data is empty\n",
            "data loaded to warehouse db\n",
            "data loaded to warehouse db\n",
            "data is empty\n",
            "data loaded to warehouse db\n",
            "data loaded to warehouse db\n",
            "data loaded to warehouse db\n",
            "data is empty\n"
          ]
        }
      ],
      "source": [
        "# establish connection for target database (sql-server)\n",
        "target_cnx = dwh_db.conn\n",
        "etl_process(etl_queue, target_cnx, DB_SOURCE_PATH)"
      ]
    },
    {
      "cell_type": "code",
      "execution_count": 17,
      "metadata": {
        "id": "IB9oD761EGQx"
      },
      "outputs": [],
      "source": [
        "target_cnx.commit()"
      ]
    },
    {
      "cell_type": "code",
      "execution_count": null,
      "metadata": {
        "id": "tBYWvkuKEGeS"
      },
      "outputs": [],
      "source": [
        "# target_cnx.close()"
      ]
    },
    {
      "cell_type": "code",
      "execution_count": 18,
      "metadata": {
        "id": "0RCROkRXNexD"
      },
      "outputs": [],
      "source": [
        "# # check list of tables\n",
        "dwh_cursor = target_cnx.cursor()\n",
        "# dwh_cursor.execute(\"SELECT name FROM sqlite_master WHERE type='table';\")\n",
        "# print(dwh_cursor.fetchall())\n"
      ]
    },
    {
      "cell_type": "code",
      "execution_count": 19,
      "metadata": {
        "colab": {
          "base_uri": "https://localhost:8080/"
        },
        "id": "sqkGj0mDK_V1",
        "outputId": "19713fe2-2aa5-4836-ba5d-d94c02016be8"
      },
      "outputs": [
        {
          "data": {
            "text/plain": [
              "[(0, 'Id', 'STRING', 0, None, 1),\n",
              " (1, 'BIRTHDATE', 'DATE', 0, None, 0),\n",
              " (2, 'DEATHDATE', 'DATE', 0, None, 0),\n",
              " (3, 'SSN', 'STRING', 0, None, 0),\n",
              " (4, 'DRIVERS', 'STRING', 0, None, 0),\n",
              " (5, 'PASSPORT', 'STRING', 0, None, 0),\n",
              " (6, 'PREFIX', 'STRING', 0, None, 0),\n",
              " (7, 'FIRST', 'STRING', 0, None, 0),\n",
              " (8, 'LAST', 'STRING', 0, None, 0),\n",
              " (9, 'SUFFIX', 'STRING', 0, None, 0),\n",
              " (10, 'MAIDEN', 'STRING', 0, None, 0),\n",
              " (11, 'MARITAL', 'STRING', 0, None, 0),\n",
              " (12, 'RACE', 'STRING', 0, None, 0),\n",
              " (13, 'ETHNICITY', 'STRING', 0, None, 0),\n",
              " (14, 'GENDER', 'STRING', 0, None, 0),\n",
              " (15, 'BIRTHPLACE', 'STRING', 0, None, 0),\n",
              " (16, 'ADDRESS', 'STRING', 0, None, 0),\n",
              " (17, 'CITY', 'STRING', 0, None, 0),\n",
              " (18, 'STATE', 'STRING', 0, None, 0),\n",
              " (19, 'COUNTRY', 'STRING', 0, None, 0),\n",
              " (20, 'ZIP', 'STRING', 0, None, 0),\n",
              " (21, 'LAT', 'INTEGER', 0, None, 0),\n",
              " (22, 'LON', 'INTEGER', 0, None, 0),\n",
              " (23, 'HEALTHCARE_EXPENSES', 'INTEGER', 0, None, 0),\n",
              " (24, 'HEALTHCARE_COVERAGE', 'INTEGER', 0, None, 0)]"
            ]
          },
          "execution_count": 19,
          "metadata": {},
          "output_type": "execute_result"
        }
      ],
      "source": [
        "# # check columns in a table\n",
        "dwh_cursor.execute('PRAGMA table_info(' + \"patients_info\" + ');')\n",
        "dwh_cursor.fetchall()"
      ]
    },
    {
      "cell_type": "code",
      "execution_count": 20,
      "metadata": {
        "colab": {
          "base_uri": "https://localhost:8080/"
        },
        "id": "Rvpq5QEYfZmJ",
        "outputId": "8bb12a30-75bc-44c0-dc67-0802d9dd8c43"
      },
      "outputs": [
        {
          "name": "stdout",
          "output_type": "stream",
          "text": [
            "('d2061cc7-bee0-0e6c-3ac4-15c197c474e0', '1956-06-22', 'Lucio648', 'Simonis280', 'M', 'M')\n",
            "('073d8e80-ff90-1c8d-57e4-29bfca52c87f', '1964-08-28', 'Buffy238', 'Wolf938', 'M', 'F')\n",
            "('e1ff7e68-4097-9faf-514d-e4cfcfdf252e', '1998-08-28', 'Debora709', 'Klocko335', '', 'F')\n",
            "('a0f679cc-875f-dd72-ed13-9ca863ec6cf3', '2004-01-20', 'Walton167', 'Kessler503', '', 'M')\n",
            "('e4166a9c-f7c5-bef7-ea43-b96281a2d586', '2006-03-23', 'Mariano761', 'Wiegand701', '', 'M')\n",
            "('ee537126-7509-05de-2349-ab19604545d8', '1991-05-21', 'Britta584', 'Ziemann98', 'M', 'F')\n",
            "('826d5ce3-2b23-8bd8-b352-a77fdd083d68', '1964-07-20', 'Arron144', 'Botsford977', 'M', 'M')\n",
            "('0edfef0f-fa74-ab35-1122-4c537bb9765d', '1997-05-05', 'Edgardo196', 'Morar593', '', 'M')\n",
            "('0fe7e161-0f29-2b70-8e3d-757b15026295', '2008-12-26', 'Fred155', 'Leuschke194', '', 'M')\n",
            "('478e120c-67a4-4375-646f-c41e74f72478', '1971-01-02', 'Frances376', 'Zulauf375', 'S', 'M')\n"
          ]
        }
      ],
      "source": [
        "dwh_cursor.execute(\"SELECT Id, BIRTHDATE, FIRST, LAST, MARITAL, GENDER from patients_info\")\n",
        "rows = dwh_cursor.fetchall()\n",
        "for row in rows[:10]:\n",
        "  print(row)"
      ]
    },
    {
      "cell_type": "code",
      "execution_count": null,
      "metadata": {
        "colab": {
          "base_uri": "https://localhost:8080/"
        },
        "id": "B1G-fY9FiSBU",
        "outputId": "e5f6f45e-5e1c-4df6-c6ea-3292608db3e2"
      },
      "outputs": [
        {
          "name": "stdout",
          "output_type": "stream",
          "text": [
            "('b4001499-a15a-980e-e3bb-e73b63045411', 180325003, 'Electrical cardioversion', 28061.2)\n",
            "('b4001499-a15a-980e-e3bb-e73b63045411', 180325003, 'Electrical cardioversion', 27985.19)\n",
            "('b4001499-a15a-980e-e3bb-e73b63045411', 180325003, 'Electrical cardioversion', 20897.09)\n",
            "('b4001499-a15a-980e-e3bb-e73b63045411', 180325003, 'Electrical cardioversion', 33252.79)\n",
            "('b4001499-a15a-980e-e3bb-e73b63045411', 180325003, 'Electrical cardioversion', 42511.55)\n",
            "('b4001499-a15a-980e-e3bb-e73b63045411', 180325003, 'Electrical cardioversion', 25637.28)\n",
            "('b4001499-a15a-980e-e3bb-e73b63045411', 18286008, 'Catheter ablation of tissue of heart', 9522.56)\n",
            "('b4001499-a15a-980e-e3bb-e73b63045411', 180325003, 'Electrical cardioversion', 42511.75)\n",
            "('b4001499-a15a-980e-e3bb-e73b63045411', 180325003, 'Electrical cardioversion', 22743.91)\n",
            "('b4001499-a15a-980e-e3bb-e73b63045411', 180325003, 'Electrical cardioversion', 38693.95)\n"
          ]
        }
      ],
      "source": [
        "dwh_cursor.execute(\"SELECT PATIENT,CODE, DESCRIPTION STRING, BASE_COST from procedures_info\")\n",
        "rows = dwh_cursor.fetchall()\n",
        "for row in rows[:10]:\n",
        "  print(row)"
      ]
    },
    {
      "cell_type": "markdown",
      "metadata": {
        "id": "ThgNoo38zBCb"
      },
      "source": [
        "# Links:\n",
        "\n",
        "https://pynative.com/python-sqlite/\n",
        "\n",
        "https://www.vertabelo.com/blog/using-python-and-mysql-in-the-etl-process/\n",
        "\n",
        "https://github.com/iamaziz/etl/blob/master/pipeline.py\n",
        "\n",
        "\n",
        "https://medium.com/datadriveninvestor/complete-data-analytics-solution-using-etl-pipeline-in-python-edd6580de24b"
      ]
    },
    {
      "cell_type": "code",
      "execution_count": null,
      "metadata": {
        "id": "i-DLW9DWzDJ2"
      },
      "outputs": [],
      "source": []
    }
  ],
  "metadata": {
    "colab": {
      "provenance": []
    },
    "kernelspec": {
      "display_name": "Python 3",
      "name": "python3"
    }
  },
  "nbformat": 4,
  "nbformat_minor": 0
}
